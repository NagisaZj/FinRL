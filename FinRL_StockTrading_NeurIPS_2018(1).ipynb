{
 "cells": [
  {
   "cell_type": "markdown",
   "metadata": {
    "colab_type": "text",
    "id": "view-in-github"
   },
   "source": [
    "<a href=\"https://colab.research.google.com/github/AI4Finance-Foundation/FinRL/blob/master/FinRL_StockTrading_NeurIPS_2018.ipynb\" target=\"_parent\"><img src=\"https://colab.research.google.com/assets/colab-badge.svg\" alt=\"Open In Colab\"/></a>"
   ]
  },
  {
   "cell_type": "markdown",
   "metadata": {
    "id": "gXaoZs2lh1hi"
   },
   "source": [
    "# Deep Reinforcement Learning for Stock Trading from Scratch: Multiple Stock Trading\n",
    "\n",
    "* **Pytorch Version** \n",
    "\n"
   ]
  },
  {
   "cell_type": "markdown",
   "metadata": {
    "id": "lGunVt8oLCVS"
   },
   "source": [
    "# Content"
   ]
  },
  {
   "cell_type": "markdown",
   "metadata": {
    "id": "HOzAKQ-SLGX6"
   },
   "source": [
    "* [1. Problem Definition](#0)\n",
    "* [2. Getting Started - Load Python packages](#1)\n",
    "    * [2.1. Install Packages](#1.1)    \n",
    "    * [2.2. Check Additional Packages](#1.2)\n",
    "    * [2.3. Import Packages](#1.3)\n",
    "    * [2.4. Create Folders](#1.4)\n",
    "* [3. Download Data](#2)\n",
    "* [4. Preprocess Data](#3)        \n",
    "    * [4.1. Technical Indicators](#3.1)\n",
    "    * [4.2. Perform Feature Engineering](#3.2)\n",
    "* [5.Build Environment](#4)  \n",
    "    * [5.1. Training & Trade Data Split](#4.1)\n",
    "    * [5.2. User-defined Environment](#4.2)   \n",
    "    * [5.3. Initialize Environment](#4.3)    \n",
    "* [6.Implement DRL Algorithms](#5)  \n",
    "* [7.Backtesting Performance](#6)  \n",
    "    * [7.1. BackTestStats](#6.1)\n",
    "    * [7.2. BackTestPlot](#6.2)   \n",
    "    * [7.3. Baseline Stats](#6.3)   \n",
    "    * [7.3. Compare to Stock Market Index](#6.4)   \n",
    "* [RLlib Section](#7)            "
   ]
  },
  {
   "cell_type": "markdown",
   "metadata": {
    "id": "sApkDlD9LIZv"
   },
   "source": [
    "<a id='0'></a>\n",
    "# Part 1. Problem Definition"
   ]
  },
  {
   "cell_type": "markdown",
   "metadata": {
    "id": "HjLD2TZSLKZ-"
   },
   "source": [
    "This problem is to design an automated trading solution for single stock trading. We model the stock trading process as a Markov Decision Process (MDP). We then formulate our trading goal as a maximization problem.\n",
    "\n",
    "The algorithm is trained using Deep Reinforcement Learning (DRL) algorithms and the components of the reinforcement learning environment are:\n",
    "\n",
    "\n",
    "* Action: The action space describes the allowed actions that the agent interacts with the\n",
    "environment. Normally, a ∈ A includes three actions: a ∈ {−1, 0, 1}, where −1, 0, 1 represent\n",
    "selling, holding, and buying one stock. Also, an action can be carried upon multiple shares. We use\n",
    "an action space {−k, ..., −1, 0, 1, ..., k}, where k denotes the number of shares. For example, \"Buy\n",
    "10 shares of AAPL\" or \"Sell 10 shares of AAPL\" are 10 or −10, respectively\n",
    "\n",
    "* Reward function: r(s, a, s′) is the incentive mechanism for an agent to learn a better action. The change of the portfolio value when action a is taken at state s and arriving at new state s',  i.e., r(s, a, s′) = v′ − v, where v′ and v represent the portfolio\n",
    "values at state s′ and s, respectively\n",
    "\n",
    "* State: The state space describes the observations that the agent receives from the environment. Just as a human trader needs to analyze various information before executing a trade, so\n",
    "our trading agent observes many different features to better learn in an interactive environment.\n",
    "\n",
    "* Environment: Dow 30 consituents\n",
    "\n",
    "\n",
    "The data of the single stock that we will be using for this case study is obtained from Yahoo Finance API. The data contains Open-High-Low-Close price and volume.\n"
   ]
  },
  {
   "cell_type": "markdown",
   "metadata": {
    "id": "Ffsre789LY08"
   },
   "source": [
    "<a id='1'></a>\n",
    "# Part 2. Getting Started- Load Python Packages"
   ]
  },
  {
   "cell_type": "markdown",
   "metadata": {
    "id": "Uy5_PTmOh1hj"
   },
   "source": [
    "<a id='1.1'></a>\n",
    "## 2.1. Install all the packages through FinRL library\n"
   ]
  },
  {
   "cell_type": "code",
   "execution_count": 2,
   "metadata": {
    "colab": {
     "base_uri": "https://localhost:8080/"
    },
    "id": "mPT0ipYE28wL",
    "outputId": "ef0ba8d0-f57a-4c74-bb0b-46737762677d"
   },
   "outputs": [
    {
     "name": "stdout",
     "output_type": "stream",
     "text": [
      "Defaulting to user installation because normal site-packages is not writeable\n",
      "Looking in indexes: http://mirrors.tencentyun.com/pypi/simple\n",
      "Collecting git+https://gitclone.com/github.com/AI4Finance-LLC/FinRL-Library.git\n",
      "  Cloning https://gitclone.com/github.com/AI4Finance-LLC/FinRL-Library.git to /tmp/pip-req-build-_nsh3vil\n",
      "  Running command git clone --filter=blob:none --quiet https://gitclone.com/github.com/AI4Finance-LLC/FinRL-Library.git /tmp/pip-req-build-_nsh3vil\n",
      "^C\n",
      "\u001b[31mERROR: Operation cancelled by user\u001b[0m\u001b[31m\n",
      "\u001b[0m"
     ]
    }
   ],
   "source": [
    "## install finrl library\n",
    "%pip install git+https://gitclone.com/github.com/AI4Finance-LLC/FinRL-Library.git"
   ]
  },
  {
   "cell_type": "code",
   "execution_count": 1,
   "metadata": {},
   "outputs": [
    {
     "name": "stdout",
     "output_type": "stream",
     "text": [
      "ell\n"
     ]
    }
   ],
   "source": [
    "print('ell')"
   ]
  },
  {
   "cell_type": "code",
   "execution_count": 2,
   "metadata": {
    "id": "w9A8CN5R5PuZ"
   },
   "outputs": [],
   "source": [
    "from finrl import config\n",
    "from finrl import config_tickers\n",
    "import os\n",
    "if not os.path.exists(\"./\" + config.DATA_SAVE_DIR):\n",
    "    os.makedirs(\"./\" + config.DATA_SAVE_DIR)\n",
    "if not os.path.exists(\"./\" + config.TRAINED_MODEL_DIR):\n",
    "    os.makedirs(\"./\" + config.TRAINED_MODEL_DIR)\n",
    "if not os.path.exists(\"./\" + config.TENSORBOARD_LOG_DIR):\n",
    "    os.makedirs(\"./\" + config.TENSORBOARD_LOG_DIR)\n",
    "if not os.path.exists(\"./\" + config.RESULTS_DIR):\n",
    "    os.makedirs(\"./\" + config.RESULTS_DIR)"
   ]
  },
  {
   "cell_type": "markdown",
   "metadata": {
    "id": "osBHhVysOEzi"
   },
   "source": [
    "\n",
    "<a id='1.2'></a>\n",
    "## 2.2. Check if the additional packages needed are present, if not install them. \n",
    "* Yahoo Finance API\n",
    "* pandas\n",
    "* numpy\n",
    "* matplotlib\n",
    "* stockstats\n",
    "* OpenAI gym\n",
    "* stable-baselines\n",
    "* tensorflow\n",
    "* pyfolio"
   ]
  },
  {
   "cell_type": "markdown",
   "metadata": {
    "id": "nGv01K8Sh1hn"
   },
   "source": [
    "<a id='1.3'></a>\n",
    "## 2.3. Import Packages"
   ]
  },
  {
   "cell_type": "code",
   "execution_count": 3,
   "metadata": {
    "colab": {
     "base_uri": "https://localhost:8080/"
    },
    "id": "lPqeTTwoh1hn",
    "outputId": "10b08480-3a0c-4826-8e51-f94ce97ab84a"
   },
   "outputs": [
    {
     "name": "stderr",
     "output_type": "stream",
     "text": [
      "//usr/local/lib/python3.8/dist-packages/torch/utils/tensorboard/__init__.py:4: DeprecationWarning: distutils Version classes are deprecated. Use packaging.version instead.\n",
      "  if not hasattr(tensorboard, '__version__') or LooseVersion(tensorboard.__version__) < LooseVersion('1.15'):\n",
      "/home/ubuntu/.local/lib/python3.8/site-packages/pandas_datareader/compat/__init__.py:11: DeprecationWarning: distutils Version classes are deprecated. Use packaging.version instead.\n",
      "  PANDAS_VERSION = LooseVersion(pd.__version__)\n",
      "/home/ubuntu/.local/lib/python3.8/site-packages/pyfolio/pos.py:26: UserWarning: Module \"zipline.assets\" not found; multipliers will not be applied to position notionals.\n",
      "  warnings.warn(\n",
      "/home/ubuntu/.local/lib/python3.8/site-packages/seaborn/rcmod.py:82: DeprecationWarning: distutils Version classes are deprecated. Use packaging.version instead.\n",
      "  if LooseVersion(mpl.__version__) >= \"3.0\":\n",
      "//usr/local/lib/python3.8/dist-packages/setuptools/_distutils/version.py:351: DeprecationWarning: distutils Version classes are deprecated. Use packaging.version instead.\n",
      "  other = LooseVersion(other)\n"
     ]
    }
   ],
   "source": [
    "import pandas as pd\n",
    "import numpy as np\n",
    "import matplotlib\n",
    "import matplotlib.pyplot as plt\n",
    "# matplotlib.use('Agg')\n",
    "import datetime\n",
    "\n",
    "%matplotlib inline\n",
    "from finrl.finrl_meta.preprocessor.yahoodownloader import YahooDownloader\n",
    "from finrl.finrl_meta.preprocessor.preprocessors import FeatureEngineer, data_split\n",
    "from finrl.finrl_meta.env_stock_trading.env_stocktrading import StockTradingEnv\n",
    "from finrl.agents.stablebaselines3.models import DRLAgent\n",
    "from finrl.finrl_meta.data_processor import DataProcessor\n",
    "\n",
    "from finrl.plot import backtest_stats, backtest_plot, get_daily_return, get_baseline\n",
    "from pprint import pprint\n",
    "\n",
    "import sys\n",
    "sys.path.append(\"../FinRL-Library\")\n",
    "\n",
    "import itertools"
   ]
  },
  {
   "cell_type": "markdown",
   "metadata": {
    "id": "T2owTj985RW4"
   },
   "source": [
    "<a id='1.4'></a>\n",
    "## 2.4. Create Folders"
   ]
  },
  {
   "cell_type": "markdown",
   "metadata": {
    "id": "A289rQWMh1hq"
   },
   "source": [
    "<a id='2'></a>\n",
    "# Part 3. Download Data\n",
    "Yahoo Finance is a website that provides stock data, financial news, financial reports, etc. All the data provided by Yahoo Finance is free.\n",
    "* FinRL uses a class **YahooDownloader** to fetch data from Yahoo Finance API\n",
    "* Call Limit: Using the Public API (without authentication), you are limited to 2,000 requests per hour per IP (or up to a total of 48,000 requests a day).\n"
   ]
  },
  {
   "cell_type": "markdown",
   "metadata": {
    "id": "NPeQ7iS-LoMm"
   },
   "source": [
    "\n",
    "\n",
    "-----\n",
    "class YahooDownloader:\n",
    "    Provides methods for retrieving daily stock data from\n",
    "    Yahoo Finance API\n",
    "\n",
    "    Attributes\n",
    "    ----------\n",
    "        start_date : str\n",
    "            start date of the data (modified from config.py)\n",
    "        end_date : str\n",
    "            end date of the data (modified from config.py)\n",
    "        ticker_list : list\n",
    "            a list of stock tickers (modified from config.py)\n",
    "\n",
    "    Methods\n",
    "    -------\n",
    "    fetch_data()\n",
    "        Fetches data from yahoo API\n"
   ]
  },
  {
   "cell_type": "code",
   "execution_count": 5,
   "metadata": {
    "colab": {
     "base_uri": "https://localhost:8080/",
     "height": 35
    },
    "id": "h3XJnvrbLp-C",
    "outputId": "5302d7c0-1c68-4c6e-b30e-b1395bdc109e"
   },
   "outputs": [
    {
     "data": {
      "text/plain": [
       "'2014-01-01'"
      ]
     },
     "execution_count": 5,
     "metadata": {},
     "output_type": "execute_result"
    }
   ],
   "source": [
    "# from config.py TRAIN_START_DATE is a string\n",
    "config.TRAIN_START_DATE"
   ]
  },
  {
   "cell_type": "code",
   "execution_count": 6,
   "metadata": {
    "colab": {
     "base_uri": "https://localhost:8080/",
     "height": 35
    },
    "id": "FUnY8WEfLq3C",
    "outputId": "35dd8c5b-d58f-49b8-e4df-ae7e122448cd"
   },
   "outputs": [
    {
     "data": {
      "text/plain": [
       "'2020-07-31'"
      ]
     },
     "execution_count": 6,
     "metadata": {},
     "output_type": "execute_result"
    }
   ],
   "source": [
    "# from config.py TRAIN_END_DATE is a string\n",
    "config.TRAIN_END_DATE"
   ]
  },
  {
   "cell_type": "code",
   "execution_count": null,
   "metadata": {
    "colab": {
     "base_uri": "https://localhost:8080/"
    },
    "id": "yCKm4om-s9kE",
    "outputId": "83c7f894-3757-473b-8afb-a904e6caabda"
   },
   "outputs": [],
   "source": [
    "df = YahooDownloader(start_date = '2009-01-01',\n",
    "                     end_date = '2021-10-31',\n",
    "                     ticker_list = config_tickers.DOW_30_TICKER).fetch_data()\n"
   ]
  },
  {
   "cell_type": "code",
   "execution_count": 4,
   "metadata": {},
   "outputs": [
    {
     "name": "stdout",
     "output_type": "stream",
     "text": [
      "['002791', '603260', '002459', '601898', '605499', '300999', '300782', '300866', '002568', '601966', '002064', '688981', '300750', '300896', '688561', '000301', '603486', '300760', '002709', '002466', '601728', '600905', '300316', '300759', '601865', '300888', '688599', '601868', '603806', '300450', '688396', '603517', '600426', '603659', '603338', '601799', '600143', '601995', '688126', '603233', '300274', '688363', '603806', '603338', '603517', '688396', '600143', '688169', '688111', '688126', '603882', '603939', '600150', '600872', '002049', '601990', '600600', '300676', '688009', '600763', '002821', '688036', '603087', '603392', '300529', '688012', '600584', '600918', '002812', '688008', '002600', '601696', '600845', '600161', '603195', '002414', '601658', '601916', '603658', '603369', '601231', '600745', '601100', '000066', '000708', '002129', '002157', '002371', '003816', '300014', '300628', '601658', '601916', '603658', '002607', '002841', '002916', '300347', '600183', '600655', '600848', '600989', '601236', '601698', '603501', '603899', '002410', '000596', '002938', '300413', '300498', '601162', '601319', '603019', '603986', '002120', '000661', '600760', '601066', '300142', '601138', '600760', '601066', '300142', '002032', '000703', '002271', '603259', '601808', '600176', '600438', '600809', '601360', '600025', '600346', '603288', '601238', '601838', '601108', '002050', '300433', '002493', '300408', '000786', '601012', '002601', '300003', '002624', '603799', '600011', '603833', '002460', '601878', '300122', '300015', '600436', '600919', '600926', '601229', '601881', '600919', '600926', '601229', '601881', '603160', '002714', '300033', '601155', '601877', '000938', '002027', '600061', '600606', '001979', '300144', '601211', '601985', '002736', '300059', '600958', '601021', '601788', '601919', '000166', '600570', '300124', '601216', '601225', '002252', '002475', '002008', '600018', '002230', '000333', '000963', '600332', '603993', '002236', '600886', '601800', '000725', '002241', '601336', '601633', '601669', '601901', '002594', '601377', '601933', '000776', '002415', '600115', '600276', '600406', '600887', '600893', '601818', '601288', '002304', '600999', '601607', '601688', '601888', '601989', '002007', '601618', '601668', '600352', '601766', '000100', '600588', '601186', '601899', '000783', '002202', '601390', '601601', '601939', '000895', '002142', '002142', '600109', '600111', '601009', '601169', '601857', '601088', '600837', '000876', '601328', '601998', '601600', '601318', '601166', '601628', '600489', '600547', '601111', '600048', '601398', '601006', '601988', '600383', '000768', '002024', '000538', '600741', '600030', '600031', '600036', '600050', '000858', '000625', '000651', '000568', '000425', '000157', '000069', '000063', '000001', '600010', '600015', '600016', '600019', '600028', '600029', '600030', '600031', '600036', '600050', '000858', '000625', '000651', '000568', '000425', '000157', '000069', '000063', '000001', '000002']\n"
     ]
    }
   ],
   "source": [
    "import akshare as ak\n",
    "\n",
    "#pip install akshare  --upgrade 安装akshare即可\n",
    "hs_300_stock_df=ak.index_stock_cons(symbol=\"000300\")\n",
    "#这里用沪深300指数，对应产品可以是沪深300etf，但其实这么选择很没有道理，而且有些公司19年都没上市，还有很多可选的备选项可以尝试，比如银行300，新能源行业，中证50等。\n",
    "#我个人觉得银行股更合适一些，选股范围合理，年化收益好一些，不存在上市时间的影响\n",
    "hs_300_stock_list=hs_300_stock_df['品种代码'].to_list()\n",
    "print(hs_300_stock_list)"
   ]
  },
  {
   "cell_type": "code",
   "execution_count": 12,
   "metadata": {},
   "outputs": [
    {
     "name": "stderr",
     "output_type": "stream",
     "text": [
      "100%|██████████████████████████████████████████████████████████████████████████████████████████████████████████████████████████████████████████████████████████████████| 300/300 [01:24<00:00,  3.57it/s]\n"
     ]
    },
    {
     "data": {
      "text/html": [
       "<div>\n",
       "<style scoped>\n",
       "    .dataframe tbody tr th:only-of-type {\n",
       "        vertical-align: middle;\n",
       "    }\n",
       "\n",
       "    .dataframe tbody tr th {\n",
       "        vertical-align: top;\n",
       "    }\n",
       "\n",
       "    .dataframe thead th {\n",
       "        text-align: right;\n",
       "    }\n",
       "</style>\n",
       "<table border=\"1\" class=\"dataframe\">\n",
       "  <thead>\n",
       "    <tr style=\"text-align: right;\">\n",
       "      <th></th>\n",
       "      <th>日期</th>\n",
       "      <th>开盘</th>\n",
       "      <th>收盘</th>\n",
       "      <th>最高</th>\n",
       "      <th>最低</th>\n",
       "      <th>成交量</th>\n",
       "      <th>成交额</th>\n",
       "      <th>振幅</th>\n",
       "      <th>涨跌幅</th>\n",
       "      <th>涨跌额</th>\n",
       "      <th>换手率</th>\n",
       "      <th>股票代码</th>\n",
       "    </tr>\n",
       "  </thead>\n",
       "  <tbody>\n",
       "    <tr>\n",
       "      <th>0</th>\n",
       "      <td>2016-03-29</td>\n",
       "      <td>17.81</td>\n",
       "      <td>19.54</td>\n",
       "      <td>19.54</td>\n",
       "      <td>17.81</td>\n",
       "      <td>347</td>\n",
       "      <td>1.076707e+06</td>\n",
       "      <td>13.10</td>\n",
       "      <td>47.92</td>\n",
       "      <td>6.33</td>\n",
       "      <td>0.08</td>\n",
       "      <td>002791</td>\n",
       "    </tr>\n",
       "    <tr>\n",
       "      <th>1</th>\n",
       "      <td>2016-03-30</td>\n",
       "      <td>21.61</td>\n",
       "      <td>21.61</td>\n",
       "      <td>21.61</td>\n",
       "      <td>21.61</td>\n",
       "      <td>136</td>\n",
       "      <td>4.655320e+05</td>\n",
       "      <td>0.00</td>\n",
       "      <td>10.59</td>\n",
       "      <td>2.07</td>\n",
       "      <td>0.03</td>\n",
       "      <td>002791</td>\n",
       "    </tr>\n",
       "    <tr>\n",
       "      <th>2</th>\n",
       "      <td>2016-03-31</td>\n",
       "      <td>23.89</td>\n",
       "      <td>23.89</td>\n",
       "      <td>23.89</td>\n",
       "      <td>23.89</td>\n",
       "      <td>282</td>\n",
       "      <td>1.061428e+06</td>\n",
       "      <td>0.00</td>\n",
       "      <td>10.55</td>\n",
       "      <td>2.28</td>\n",
       "      <td>0.06</td>\n",
       "      <td>002791</td>\n",
       "    </tr>\n",
       "    <tr>\n",
       "      <th>3</th>\n",
       "      <td>2016-04-01</td>\n",
       "      <td>26.40</td>\n",
       "      <td>26.40</td>\n",
       "      <td>26.40</td>\n",
       "      <td>26.40</td>\n",
       "      <td>794</td>\n",
       "      <td>3.283272e+06</td>\n",
       "      <td>0.00</td>\n",
       "      <td>10.51</td>\n",
       "      <td>2.51</td>\n",
       "      <td>0.18</td>\n",
       "      <td>002791</td>\n",
       "    </tr>\n",
       "    <tr>\n",
       "      <th>4</th>\n",
       "      <td>2016-04-05</td>\n",
       "      <td>29.16</td>\n",
       "      <td>29.16</td>\n",
       "      <td>29.16</td>\n",
       "      <td>29.16</td>\n",
       "      <td>1104</td>\n",
       "      <td>5.021049e+06</td>\n",
       "      <td>0.00</td>\n",
       "      <td>10.45</td>\n",
       "      <td>2.76</td>\n",
       "      <td>0.25</td>\n",
       "      <td>002791</td>\n",
       "    </tr>\n",
       "    <tr>\n",
       "      <th>...</th>\n",
       "      <td>...</td>\n",
       "      <td>...</td>\n",
       "      <td>...</td>\n",
       "      <td>...</td>\n",
       "      <td>...</td>\n",
       "      <td>...</td>\n",
       "      <td>...</td>\n",
       "      <td>...</td>\n",
       "      <td>...</td>\n",
       "      <td>...</td>\n",
       "      <td>...</td>\n",
       "      <td>...</td>\n",
       "    </tr>\n",
       "    <tr>\n",
       "      <th>1653</th>\n",
       "      <td>2022-05-13</td>\n",
       "      <td>18.00</td>\n",
       "      <td>18.67</td>\n",
       "      <td>18.70</td>\n",
       "      <td>17.91</td>\n",
       "      <td>1212138</td>\n",
       "      <td>2.239904e+09</td>\n",
       "      <td>4.39</td>\n",
       "      <td>3.84</td>\n",
       "      <td>0.69</td>\n",
       "      <td>1.25</td>\n",
       "      <td>000002</td>\n",
       "    </tr>\n",
       "    <tr>\n",
       "      <th>1654</th>\n",
       "      <td>2022-05-16</td>\n",
       "      <td>19.20</td>\n",
       "      <td>18.88</td>\n",
       "      <td>19.29</td>\n",
       "      <td>18.37</td>\n",
       "      <td>1221008</td>\n",
       "      <td>2.301991e+09</td>\n",
       "      <td>4.93</td>\n",
       "      <td>1.12</td>\n",
       "      <td>0.21</td>\n",
       "      <td>1.26</td>\n",
       "      <td>000002</td>\n",
       "    </tr>\n",
       "    <tr>\n",
       "      <th>1655</th>\n",
       "      <td>2022-05-17</td>\n",
       "      <td>18.80</td>\n",
       "      <td>19.07</td>\n",
       "      <td>19.60</td>\n",
       "      <td>18.61</td>\n",
       "      <td>1169038</td>\n",
       "      <td>2.233126e+09</td>\n",
       "      <td>5.24</td>\n",
       "      <td>1.01</td>\n",
       "      <td>0.19</td>\n",
       "      <td>1.20</td>\n",
       "      <td>000002</td>\n",
       "    </tr>\n",
       "    <tr>\n",
       "      <th>1656</th>\n",
       "      <td>2022-05-18</td>\n",
       "      <td>19.01</td>\n",
       "      <td>18.82</td>\n",
       "      <td>19.17</td>\n",
       "      <td>18.47</td>\n",
       "      <td>761158</td>\n",
       "      <td>1.428799e+09</td>\n",
       "      <td>3.67</td>\n",
       "      <td>-1.31</td>\n",
       "      <td>-0.25</td>\n",
       "      <td>0.78</td>\n",
       "      <td>000002</td>\n",
       "    </tr>\n",
       "    <tr>\n",
       "      <th>1657</th>\n",
       "      <td>2022-05-19</td>\n",
       "      <td>18.50</td>\n",
       "      <td>19.25</td>\n",
       "      <td>19.35</td>\n",
       "      <td>18.47</td>\n",
       "      <td>1017552</td>\n",
       "      <td>1.942390e+09</td>\n",
       "      <td>4.68</td>\n",
       "      <td>2.28</td>\n",
       "      <td>0.43</td>\n",
       "      <td>1.05</td>\n",
       "      <td>000002</td>\n",
       "    </tr>\n",
       "  </tbody>\n",
       "</table>\n",
       "<p>449000 rows × 12 columns</p>\n",
       "</div>"
      ],
      "text/plain": [
       "              日期     开盘     收盘     最高     最低      成交量           成交额     振幅  \\\n",
       "0     2016-03-29  17.81  19.54  19.54  17.81      347  1.076707e+06  13.10   \n",
       "1     2016-03-30  21.61  21.61  21.61  21.61      136  4.655320e+05   0.00   \n",
       "2     2016-03-31  23.89  23.89  23.89  23.89      282  1.061428e+06   0.00   \n",
       "3     2016-04-01  26.40  26.40  26.40  26.40      794  3.283272e+06   0.00   \n",
       "4     2016-04-05  29.16  29.16  29.16  29.16     1104  5.021049e+06   0.00   \n",
       "...          ...    ...    ...    ...    ...      ...           ...    ...   \n",
       "1653  2022-05-13  18.00  18.67  18.70  17.91  1212138  2.239904e+09   4.39   \n",
       "1654  2022-05-16  19.20  18.88  19.29  18.37  1221008  2.301991e+09   4.93   \n",
       "1655  2022-05-17  18.80  19.07  19.60  18.61  1169038  2.233126e+09   5.24   \n",
       "1656  2022-05-18  19.01  18.82  19.17  18.47   761158  1.428799e+09   3.67   \n",
       "1657  2022-05-19  18.50  19.25  19.35  18.47  1017552  1.942390e+09   4.68   \n",
       "\n",
       "        涨跌幅   涨跌额   换手率    股票代码  \n",
       "0     47.92  6.33  0.08  002791  \n",
       "1     10.59  2.07  0.03  002791  \n",
       "2     10.55  2.28  0.06  002791  \n",
       "3     10.51  2.51  0.18  002791  \n",
       "4     10.45  2.76  0.25  002791  \n",
       "...     ...   ...   ...     ...  \n",
       "1653   3.84  0.69  1.25  000002  \n",
       "1654   1.12  0.21  1.26  000002  \n",
       "1655   1.01  0.19  1.20  000002  \n",
       "1656  -1.31 -0.25  0.78  000002  \n",
       "1657   2.28  0.43  1.05  000002  \n",
       "\n",
       "[449000 rows x 12 columns]"
      ]
     },
     "execution_count": 12,
     "metadata": {},
     "output_type": "execute_result"
    }
   ],
   "source": [
    "from tqdm import tqdm\n",
    "df=pd.DataFrame()\n",
    "for i in tqdm(hs_300_stock_list):\n",
    "#这一步不太稳定，这个服务器偶尔抽风，大概快了2min钟，慢一点十分钟左右吧\n",
    "#for i in hs_300_stock_list:\n",
    "    inter_df=ak.stock_zh_a_hist(symbol=i,period='daily',adjust='qfq',start_date='20150101',end_date='2022-5-19')\n",
    "    #选择qfq的方式处理分红除权\n",
    "    stock_num=[i for _ in range(len(inter_df['日期']))]\n",
    "    stock_num=pd.DataFrame(stock_num,columns=['股票代码'])\n",
    "    inter_df=pd.concat([inter_df,stock_num],axis=1)\n",
    "    df=pd.concat([df,inter_df],axis=0)\n",
    "df"
   ]
  },
  {
   "cell_type": "code",
   "execution_count": 6,
   "metadata": {},
   "outputs": [
    {
     "data": {
      "text/plain": [
       "(449000, 12)"
      ]
     },
     "execution_count": 6,
     "metadata": {},
     "output_type": "execute_result"
    }
   ],
   "source": [
    "df.shape"
   ]
  },
  {
   "cell_type": "code",
   "execution_count": 13,
   "metadata": {},
   "outputs": [
    {
     "data": {
      "text/html": [
       "<div>\n",
       "<style scoped>\n",
       "    .dataframe tbody tr th:only-of-type {\n",
       "        vertical-align: middle;\n",
       "    }\n",
       "\n",
       "    .dataframe tbody tr th {\n",
       "        vertical-align: top;\n",
       "    }\n",
       "\n",
       "    .dataframe thead th {\n",
       "        text-align: right;\n",
       "    }\n",
       "</style>\n",
       "<table border=\"1\" class=\"dataframe\">\n",
       "  <thead>\n",
       "    <tr style=\"text-align: right;\">\n",
       "      <th></th>\n",
       "      <th>date</th>\n",
       "      <th>open</th>\n",
       "      <th>close</th>\n",
       "      <th>high</th>\n",
       "      <th>low</th>\n",
       "      <th>volume</th>\n",
       "      <th>成交额</th>\n",
       "      <th>振幅</th>\n",
       "      <th>涨跌幅</th>\n",
       "      <th>涨跌额</th>\n",
       "      <th>换手率</th>\n",
       "      <th>tic</th>\n",
       "    </tr>\n",
       "  </thead>\n",
       "  <tbody>\n",
       "    <tr>\n",
       "      <th>0</th>\n",
       "      <td>2016-03-29</td>\n",
       "      <td>17.81</td>\n",
       "      <td>19.54</td>\n",
       "      <td>19.54</td>\n",
       "      <td>17.81</td>\n",
       "      <td>347</td>\n",
       "      <td>1.076707e+06</td>\n",
       "      <td>13.10</td>\n",
       "      <td>47.92</td>\n",
       "      <td>6.33</td>\n",
       "      <td>0.08</td>\n",
       "      <td>002791</td>\n",
       "    </tr>\n",
       "    <tr>\n",
       "      <th>1</th>\n",
       "      <td>2016-03-30</td>\n",
       "      <td>21.61</td>\n",
       "      <td>21.61</td>\n",
       "      <td>21.61</td>\n",
       "      <td>21.61</td>\n",
       "      <td>136</td>\n",
       "      <td>4.655320e+05</td>\n",
       "      <td>0.00</td>\n",
       "      <td>10.59</td>\n",
       "      <td>2.07</td>\n",
       "      <td>0.03</td>\n",
       "      <td>002791</td>\n",
       "    </tr>\n",
       "    <tr>\n",
       "      <th>2</th>\n",
       "      <td>2016-03-31</td>\n",
       "      <td>23.89</td>\n",
       "      <td>23.89</td>\n",
       "      <td>23.89</td>\n",
       "      <td>23.89</td>\n",
       "      <td>282</td>\n",
       "      <td>1.061428e+06</td>\n",
       "      <td>0.00</td>\n",
       "      <td>10.55</td>\n",
       "      <td>2.28</td>\n",
       "      <td>0.06</td>\n",
       "      <td>002791</td>\n",
       "    </tr>\n",
       "    <tr>\n",
       "      <th>3</th>\n",
       "      <td>2016-04-01</td>\n",
       "      <td>26.40</td>\n",
       "      <td>26.40</td>\n",
       "      <td>26.40</td>\n",
       "      <td>26.40</td>\n",
       "      <td>794</td>\n",
       "      <td>3.283272e+06</td>\n",
       "      <td>0.00</td>\n",
       "      <td>10.51</td>\n",
       "      <td>2.51</td>\n",
       "      <td>0.18</td>\n",
       "      <td>002791</td>\n",
       "    </tr>\n",
       "    <tr>\n",
       "      <th>4</th>\n",
       "      <td>2016-04-05</td>\n",
       "      <td>29.16</td>\n",
       "      <td>29.16</td>\n",
       "      <td>29.16</td>\n",
       "      <td>29.16</td>\n",
       "      <td>1104</td>\n",
       "      <td>5.021049e+06</td>\n",
       "      <td>0.00</td>\n",
       "      <td>10.45</td>\n",
       "      <td>2.76</td>\n",
       "      <td>0.25</td>\n",
       "      <td>002791</td>\n",
       "    </tr>\n",
       "    <tr>\n",
       "      <th>...</th>\n",
       "      <td>...</td>\n",
       "      <td>...</td>\n",
       "      <td>...</td>\n",
       "      <td>...</td>\n",
       "      <td>...</td>\n",
       "      <td>...</td>\n",
       "      <td>...</td>\n",
       "      <td>...</td>\n",
       "      <td>...</td>\n",
       "      <td>...</td>\n",
       "      <td>...</td>\n",
       "      <td>...</td>\n",
       "    </tr>\n",
       "    <tr>\n",
       "      <th>1653</th>\n",
       "      <td>2022-05-13</td>\n",
       "      <td>18.00</td>\n",
       "      <td>18.67</td>\n",
       "      <td>18.70</td>\n",
       "      <td>17.91</td>\n",
       "      <td>1212138</td>\n",
       "      <td>2.239904e+09</td>\n",
       "      <td>4.39</td>\n",
       "      <td>3.84</td>\n",
       "      <td>0.69</td>\n",
       "      <td>1.25</td>\n",
       "      <td>000002</td>\n",
       "    </tr>\n",
       "    <tr>\n",
       "      <th>1654</th>\n",
       "      <td>2022-05-16</td>\n",
       "      <td>19.20</td>\n",
       "      <td>18.88</td>\n",
       "      <td>19.29</td>\n",
       "      <td>18.37</td>\n",
       "      <td>1221008</td>\n",
       "      <td>2.301991e+09</td>\n",
       "      <td>4.93</td>\n",
       "      <td>1.12</td>\n",
       "      <td>0.21</td>\n",
       "      <td>1.26</td>\n",
       "      <td>000002</td>\n",
       "    </tr>\n",
       "    <tr>\n",
       "      <th>1655</th>\n",
       "      <td>2022-05-17</td>\n",
       "      <td>18.80</td>\n",
       "      <td>19.07</td>\n",
       "      <td>19.60</td>\n",
       "      <td>18.61</td>\n",
       "      <td>1169038</td>\n",
       "      <td>2.233126e+09</td>\n",
       "      <td>5.24</td>\n",
       "      <td>1.01</td>\n",
       "      <td>0.19</td>\n",
       "      <td>1.20</td>\n",
       "      <td>000002</td>\n",
       "    </tr>\n",
       "    <tr>\n",
       "      <th>1656</th>\n",
       "      <td>2022-05-18</td>\n",
       "      <td>19.01</td>\n",
       "      <td>18.82</td>\n",
       "      <td>19.17</td>\n",
       "      <td>18.47</td>\n",
       "      <td>761158</td>\n",
       "      <td>1.428799e+09</td>\n",
       "      <td>3.67</td>\n",
       "      <td>-1.31</td>\n",
       "      <td>-0.25</td>\n",
       "      <td>0.78</td>\n",
       "      <td>000002</td>\n",
       "    </tr>\n",
       "    <tr>\n",
       "      <th>1657</th>\n",
       "      <td>2022-05-19</td>\n",
       "      <td>18.50</td>\n",
       "      <td>19.25</td>\n",
       "      <td>19.35</td>\n",
       "      <td>18.47</td>\n",
       "      <td>1017552</td>\n",
       "      <td>1.942390e+09</td>\n",
       "      <td>4.68</td>\n",
       "      <td>2.28</td>\n",
       "      <td>0.43</td>\n",
       "      <td>1.05</td>\n",
       "      <td>000002</td>\n",
       "    </tr>\n",
       "  </tbody>\n",
       "</table>\n",
       "<p>449000 rows × 12 columns</p>\n",
       "</div>"
      ],
      "text/plain": [
       "            date   open  close   high    low   volume           成交额     振幅  \\\n",
       "0     2016-03-29  17.81  19.54  19.54  17.81      347  1.076707e+06  13.10   \n",
       "1     2016-03-30  21.61  21.61  21.61  21.61      136  4.655320e+05   0.00   \n",
       "2     2016-03-31  23.89  23.89  23.89  23.89      282  1.061428e+06   0.00   \n",
       "3     2016-04-01  26.40  26.40  26.40  26.40      794  3.283272e+06   0.00   \n",
       "4     2016-04-05  29.16  29.16  29.16  29.16     1104  5.021049e+06   0.00   \n",
       "...          ...    ...    ...    ...    ...      ...           ...    ...   \n",
       "1653  2022-05-13  18.00  18.67  18.70  17.91  1212138  2.239904e+09   4.39   \n",
       "1654  2022-05-16  19.20  18.88  19.29  18.37  1221008  2.301991e+09   4.93   \n",
       "1655  2022-05-17  18.80  19.07  19.60  18.61  1169038  2.233126e+09   5.24   \n",
       "1656  2022-05-18  19.01  18.82  19.17  18.47   761158  1.428799e+09   3.67   \n",
       "1657  2022-05-19  18.50  19.25  19.35  18.47  1017552  1.942390e+09   4.68   \n",
       "\n",
       "        涨跌幅   涨跌额   换手率     tic  \n",
       "0     47.92  6.33  0.08  002791  \n",
       "1     10.59  2.07  0.03  002791  \n",
       "2     10.55  2.28  0.06  002791  \n",
       "3     10.51  2.51  0.18  002791  \n",
       "4     10.45  2.76  0.25  002791  \n",
       "...     ...   ...   ...     ...  \n",
       "1653   3.84  0.69  1.25  000002  \n",
       "1654   1.12  0.21  1.26  000002  \n",
       "1655   1.01  0.19  1.20  000002  \n",
       "1656  -1.31 -0.25  0.78  000002  \n",
       "1657   2.28  0.43  1.05  000002  \n",
       "\n",
       "[449000 rows x 12 columns]"
      ]
     },
     "execution_count": 13,
     "metadata": {},
     "output_type": "execute_result"
    }
   ],
   "source": [
    "df.sort_values(['日期','股票代码'],ignore_index=True)\n",
    "df.rename(columns= {'日期': 'date', '开盘': 'open','收盘': 'close','最高':'high','最低':'low','成交量':'volume','股票代码':'tic'},inplace=True)\n",
    "df"
   ]
  },
  {
   "cell_type": "code",
   "execution_count": 7,
   "metadata": {
    "colab": {
     "base_uri": "https://localhost:8080/"
    },
    "id": "JzqRRTOX6aFu",
    "outputId": "7a991dfe-f39c-40db-ec44-7c416cdce7dc"
   },
   "outputs": [
    {
     "name": "stdout",
     "output_type": "stream",
     "text": [
      "['AXP', 'AMGN', 'AAPL', 'BA', 'CAT', 'CSCO', 'CVX', 'GS', 'HD', 'HON', 'IBM', 'INTC', 'JNJ', 'KO', 'JPM', 'MCD', 'MMM', 'MRK', 'MSFT', 'NKE', 'PG', 'TRV', 'UNH', 'CRM', 'VZ', 'V', 'WBA', 'WMT', 'DIS', 'DOW']\n"
     ]
    }
   ],
   "source": [
    "print(config_tickers.DOW_30_TICKER)"
   ]
  },
  {
   "cell_type": "code",
   "execution_count": 8,
   "metadata": {
    "colab": {
     "base_uri": "https://localhost:8080/"
    },
    "id": "CV3HrZHLh1hy",
    "outputId": "5267773c-399c-4ec9-d4d5-13ab1e4cced0"
   },
   "outputs": [
    {
     "data": {
      "text/plain": [
       "(94331, 8)"
      ]
     },
     "execution_count": 8,
     "metadata": {},
     "output_type": "execute_result"
    }
   ],
   "source": []
  },
  {
   "cell_type": "code",
   "execution_count": 9,
   "metadata": {
    "colab": {
     "base_uri": "https://localhost:8080/",
     "height": 206
    },
    "id": "4hYkeaPiICHS",
    "outputId": "210fade5-e912-40df-be99-4ad00bdb9d2f"
   },
   "outputs": [
    {
     "data": {
      "text/html": [
       "\n",
       "  <div id=\"df-66e2881b-1115-4eee-b48f-35c673427c34\">\n",
       "    <div class=\"colab-df-container\">\n",
       "      <div>\n",
       "<style scoped>\n",
       "    .dataframe tbody tr th:only-of-type {\n",
       "        vertical-align: middle;\n",
       "    }\n",
       "\n",
       "    .dataframe tbody tr th {\n",
       "        vertical-align: top;\n",
       "    }\n",
       "\n",
       "    .dataframe thead th {\n",
       "        text-align: right;\n",
       "    }\n",
       "</style>\n",
       "<table border=\"1\" class=\"dataframe\">\n",
       "  <thead>\n",
       "    <tr style=\"text-align: right;\">\n",
       "      <th></th>\n",
       "      <th>date</th>\n",
       "      <th>open</th>\n",
       "      <th>high</th>\n",
       "      <th>low</th>\n",
       "      <th>close</th>\n",
       "      <th>volume</th>\n",
       "      <th>tic</th>\n",
       "      <th>day</th>\n",
       "    </tr>\n",
       "  </thead>\n",
       "  <tbody>\n",
       "    <tr>\n",
       "      <th>0</th>\n",
       "      <td>2009-01-02</td>\n",
       "      <td>3.067143</td>\n",
       "      <td>3.251429</td>\n",
       "      <td>3.041429</td>\n",
       "      <td>2.778782</td>\n",
       "      <td>746015200</td>\n",
       "      <td>AAPL</td>\n",
       "      <td>4</td>\n",
       "    </tr>\n",
       "    <tr>\n",
       "      <th>1</th>\n",
       "      <td>2009-01-02</td>\n",
       "      <td>58.590000</td>\n",
       "      <td>59.080002</td>\n",
       "      <td>57.750000</td>\n",
       "      <td>45.615879</td>\n",
       "      <td>6547900</td>\n",
       "      <td>AMGN</td>\n",
       "      <td>4</td>\n",
       "    </tr>\n",
       "    <tr>\n",
       "      <th>2</th>\n",
       "      <td>2009-01-02</td>\n",
       "      <td>18.570000</td>\n",
       "      <td>19.520000</td>\n",
       "      <td>18.400000</td>\n",
       "      <td>15.618542</td>\n",
       "      <td>10955700</td>\n",
       "      <td>AXP</td>\n",
       "      <td>4</td>\n",
       "    </tr>\n",
       "    <tr>\n",
       "      <th>3</th>\n",
       "      <td>2009-01-02</td>\n",
       "      <td>42.799999</td>\n",
       "      <td>45.560001</td>\n",
       "      <td>42.779999</td>\n",
       "      <td>33.941105</td>\n",
       "      <td>7010200</td>\n",
       "      <td>BA</td>\n",
       "      <td>4</td>\n",
       "    </tr>\n",
       "    <tr>\n",
       "      <th>4</th>\n",
       "      <td>2009-01-02</td>\n",
       "      <td>44.910000</td>\n",
       "      <td>46.980000</td>\n",
       "      <td>44.709999</td>\n",
       "      <td>32.475788</td>\n",
       "      <td>7117200</td>\n",
       "      <td>CAT</td>\n",
       "      <td>4</td>\n",
       "    </tr>\n",
       "  </tbody>\n",
       "</table>\n",
       "</div>\n",
       "      <button class=\"colab-df-convert\" onclick=\"convertToInteractive('df-66e2881b-1115-4eee-b48f-35c673427c34')\"\n",
       "              title=\"Convert this dataframe to an interactive table.\"\n",
       "              style=\"display:none;\">\n",
       "        \n",
       "  <svg xmlns=\"http://www.w3.org/2000/svg\" height=\"24px\"viewBox=\"0 0 24 24\"\n",
       "       width=\"24px\">\n",
       "    <path d=\"M0 0h24v24H0V0z\" fill=\"none\"/>\n",
       "    <path d=\"M18.56 5.44l.94 2.06.94-2.06 2.06-.94-2.06-.94-.94-2.06-.94 2.06-2.06.94zm-11 1L8.5 8.5l.94-2.06 2.06-.94-2.06-.94L8.5 2.5l-.94 2.06-2.06.94zm10 10l.94 2.06.94-2.06 2.06-.94-2.06-.94-.94-2.06-.94 2.06-2.06.94z\"/><path d=\"M17.41 7.96l-1.37-1.37c-.4-.4-.92-.59-1.43-.59-.52 0-1.04.2-1.43.59L10.3 9.45l-7.72 7.72c-.78.78-.78 2.05 0 2.83L4 21.41c.39.39.9.59 1.41.59.51 0 1.02-.2 1.41-.59l7.78-7.78 2.81-2.81c.8-.78.8-2.07 0-2.86zM5.41 20L4 18.59l7.72-7.72 1.47 1.35L5.41 20z\"/>\n",
       "  </svg>\n",
       "      </button>\n",
       "      \n",
       "  <style>\n",
       "    .colab-df-container {\n",
       "      display:flex;\n",
       "      flex-wrap:wrap;\n",
       "      gap: 12px;\n",
       "    }\n",
       "\n",
       "    .colab-df-convert {\n",
       "      background-color: #E8F0FE;\n",
       "      border: none;\n",
       "      border-radius: 50%;\n",
       "      cursor: pointer;\n",
       "      display: none;\n",
       "      fill: #1967D2;\n",
       "      height: 32px;\n",
       "      padding: 0 0 0 0;\n",
       "      width: 32px;\n",
       "    }\n",
       "\n",
       "    .colab-df-convert:hover {\n",
       "      background-color: #E2EBFA;\n",
       "      box-shadow: 0px 1px 2px rgba(60, 64, 67, 0.3), 0px 1px 3px 1px rgba(60, 64, 67, 0.15);\n",
       "      fill: #174EA6;\n",
       "    }\n",
       "\n",
       "    [theme=dark] .colab-df-convert {\n",
       "      background-color: #3B4455;\n",
       "      fill: #D2E3FC;\n",
       "    }\n",
       "\n",
       "    [theme=dark] .colab-df-convert:hover {\n",
       "      background-color: #434B5C;\n",
       "      box-shadow: 0px 1px 3px 1px rgba(0, 0, 0, 0.15);\n",
       "      filter: drop-shadow(0px 1px 2px rgba(0, 0, 0, 0.3));\n",
       "      fill: #FFFFFF;\n",
       "    }\n",
       "  </style>\n",
       "\n",
       "      <script>\n",
       "        const buttonEl =\n",
       "          document.querySelector('#df-66e2881b-1115-4eee-b48f-35c673427c34 button.colab-df-convert');\n",
       "        buttonEl.style.display =\n",
       "          google.colab.kernel.accessAllowed ? 'block' : 'none';\n",
       "\n",
       "        async function convertToInteractive(key) {\n",
       "          const element = document.querySelector('#df-66e2881b-1115-4eee-b48f-35c673427c34');\n",
       "          const dataTable =\n",
       "            await google.colab.kernel.invokeFunction('convertToInteractive',\n",
       "                                                     [key], {});\n",
       "          if (!dataTable) return;\n",
       "\n",
       "          const docLinkHtml = 'Like what you see? Visit the ' +\n",
       "            '<a target=\"_blank\" href=https://colab.research.google.com/notebooks/data_table.ipynb>data table notebook</a>'\n",
       "            + ' to learn more about interactive tables.';\n",
       "          element.innerHTML = '';\n",
       "          dataTable['output_type'] = 'display_data';\n",
       "          await google.colab.output.renderOutput(dataTable, element);\n",
       "          const docLink = document.createElement('div');\n",
       "          docLink.innerHTML = docLinkHtml;\n",
       "          element.appendChild(docLink);\n",
       "        }\n",
       "      </script>\n",
       "    </div>\n",
       "  </div>\n",
       "  "
      ],
      "text/plain": [
       "         date       open       high        low      close     volume   tic  day\n",
       "0  2009-01-02   3.067143   3.251429   3.041429   2.778782  746015200  AAPL    4\n",
       "1  2009-01-02  58.590000  59.080002  57.750000  45.615879    6547900  AMGN    4\n",
       "2  2009-01-02  18.570000  19.520000  18.400000  15.618542   10955700   AXP    4\n",
       "3  2009-01-02  42.799999  45.560001  42.779999  33.941105    7010200    BA    4\n",
       "4  2009-01-02  44.910000  46.980000  44.709999  32.475788    7117200   CAT    4"
      ]
     },
     "execution_count": 9,
     "metadata": {},
     "output_type": "execute_result"
    }
   ],
   "source": []
  },
  {
   "cell_type": "markdown",
   "metadata": {
    "id": "uqC6c40Zh1iH"
   },
   "source": [
    "# Part 4: Preprocess Data\n",
    "Data preprocessing is a crucial step for training a high quality machine learning model. We need to check for missing data and do feature engineering in order to convert the data into a model-ready state.\n",
    "* Add technical indicators. In practical trading, various information needs to be taken into account, for example the historical stock prices, current holding shares, technical indicators, etc. In this article, we demonstrate two trend-following technical indicators: MACD and RSI.\n",
    "* Add turbulence index. Risk-aversion reflects whether an investor will choose to preserve the capital. It also influences one's trading strategy when facing different market volatility level. To control the risk in a worst-case scenario, such as financial crisis of 2007–2008, FinRL employs the financial turbulence index that measures extreme asset price fluctuation."
   ]
  },
  {
   "cell_type": "code",
   "execution_count": 21,
   "metadata": {
    "colab": {
     "base_uri": "https://localhost:8080/"
    },
    "id": "PmKP-1ii3RLS",
    "outputId": "0708badb-77ef-4c86-f77c-6525f0e8934d",
    "pycharm": {
     "name": "#%%\n"
    }
   },
   "outputs": [
    {
     "name": "stdout",
     "output_type": "stream",
     "text": [
      "Length of values (7172) does not match length of index (3586)\n",
      "Length of values (7172) does not match length of index (3586)\n",
      "Length of values (7172) does not match length of index (3586)\n",
      "Length of values (7172) does not match length of index (3586)\n",
      "Length of values (7172) does not match length of index (3586)\n",
      "Length of values (7172) does not match length of index (3586)\n",
      "Length of values (7172) does not match length of index (3586)\n",
      "Successfully added technical indicators\n"
     ]
    }
   ],
   "source": [
    "fe = FeatureEngineer(\n",
    "                    use_technical_indicator=True,\n",
    "                    tech_indicator_list = config.INDICATORS,\n",
    "                    use_vix=False,\n",
    "    #这个vix还是用了yh的数据接口，先暂时false掉\n",
    "                    use_turbulence=False,\n",
    "    #这个turbulence似乎接口也有问题\n",
    "                    user_defined_feature = False)\n",
    "\n",
    "processed = fe.preprocess_data(df)"
   ]
  },
  {
   "cell_type": "code",
   "execution_count": 22,
   "metadata": {},
   "outputs": [
    {
     "data": {
      "text/html": [
       "<div>\n",
       "<style scoped>\n",
       "    .dataframe tbody tr th:only-of-type {\n",
       "        vertical-align: middle;\n",
       "    }\n",
       "\n",
       "    .dataframe tbody tr th {\n",
       "        vertical-align: top;\n",
       "    }\n",
       "\n",
       "    .dataframe thead th {\n",
       "        text-align: right;\n",
       "    }\n",
       "</style>\n",
       "<table border=\"1\" class=\"dataframe\">\n",
       "  <thead>\n",
       "    <tr style=\"text-align: right;\">\n",
       "      <th></th>\n",
       "      <th>date</th>\n",
       "      <th>open</th>\n",
       "      <th>close</th>\n",
       "      <th>high</th>\n",
       "      <th>low</th>\n",
       "      <th>volume</th>\n",
       "      <th>成交额</th>\n",
       "      <th>振幅</th>\n",
       "      <th>涨跌幅</th>\n",
       "      <th>涨跌额</th>\n",
       "      <th>换手率</th>\n",
       "      <th>tic</th>\n",
       "      <th>macd</th>\n",
       "      <th>boll_ub</th>\n",
       "      <th>boll_lb</th>\n",
       "      <th>rsi_30</th>\n",
       "      <th>cci_30</th>\n",
       "      <th>dx_30</th>\n",
       "      <th>close_30_sma</th>\n",
       "      <th>close_60_sma</th>\n",
       "    </tr>\n",
       "  </thead>\n",
       "  <tbody>\n",
       "    <tr>\n",
       "      <th>0</th>\n",
       "      <td>2015-01-05</td>\n",
       "      <td>10.02</td>\n",
       "      <td>10.04</td>\n",
       "      <td>10.22</td>\n",
       "      <td>9.75</td>\n",
       "      <td>2860436</td>\n",
       "      <td>4.565388e+09</td>\n",
       "      <td>4.74</td>\n",
       "      <td>1.31</td>\n",
       "      <td>0.13</td>\n",
       "      <td>2.91</td>\n",
       "      <td>000001</td>\n",
       "      <td>0.000000</td>\n",
       "      <td>33.589655</td>\n",
       "      <td>31.270345</td>\n",
       "      <td>0.000000</td>\n",
       "      <td>66.666667</td>\n",
       "      <td>100.000000</td>\n",
       "      <td>32.840000</td>\n",
       "      <td>32.840000</td>\n",
       "    </tr>\n",
       "    <tr>\n",
       "      <th>1</th>\n",
       "      <td>2015-01-05</td>\n",
       "      <td>10.02</td>\n",
       "      <td>10.04</td>\n",
       "      <td>10.22</td>\n",
       "      <td>9.75</td>\n",
       "      <td>2860436</td>\n",
       "      <td>4.565388e+09</td>\n",
       "      <td>4.74</td>\n",
       "      <td>1.31</td>\n",
       "      <td>0.13</td>\n",
       "      <td>2.91</td>\n",
       "      <td>000001</td>\n",
       "      <td>0.000000</td>\n",
       "      <td>33.589655</td>\n",
       "      <td>31.270345</td>\n",
       "      <td>0.000000</td>\n",
       "      <td>66.666667</td>\n",
       "      <td>100.000000</td>\n",
       "      <td>32.840000</td>\n",
       "      <td>32.840000</td>\n",
       "    </tr>\n",
       "    <tr>\n",
       "      <th>2</th>\n",
       "      <td>2015-01-05</td>\n",
       "      <td>10.02</td>\n",
       "      <td>10.04</td>\n",
       "      <td>10.22</td>\n",
       "      <td>9.75</td>\n",
       "      <td>2860436</td>\n",
       "      <td>4.565388e+09</td>\n",
       "      <td>4.74</td>\n",
       "      <td>1.31</td>\n",
       "      <td>0.13</td>\n",
       "      <td>2.91</td>\n",
       "      <td>000001</td>\n",
       "      <td>0.000000</td>\n",
       "      <td>33.589655</td>\n",
       "      <td>31.270345</td>\n",
       "      <td>0.000000</td>\n",
       "      <td>66.666667</td>\n",
       "      <td>100.000000</td>\n",
       "      <td>32.840000</td>\n",
       "      <td>32.840000</td>\n",
       "    </tr>\n",
       "    <tr>\n",
       "      <th>3</th>\n",
       "      <td>2015-01-05</td>\n",
       "      <td>10.02</td>\n",
       "      <td>10.04</td>\n",
       "      <td>10.22</td>\n",
       "      <td>9.75</td>\n",
       "      <td>2860436</td>\n",
       "      <td>4.565388e+09</td>\n",
       "      <td>4.74</td>\n",
       "      <td>1.31</td>\n",
       "      <td>0.13</td>\n",
       "      <td>2.91</td>\n",
       "      <td>000001</td>\n",
       "      <td>0.000000</td>\n",
       "      <td>33.589655</td>\n",
       "      <td>31.270345</td>\n",
       "      <td>0.000000</td>\n",
       "      <td>66.666667</td>\n",
       "      <td>100.000000</td>\n",
       "      <td>32.840000</td>\n",
       "      <td>32.840000</td>\n",
       "    </tr>\n",
       "    <tr>\n",
       "      <th>7172</th>\n",
       "      <td>2015-01-05</td>\n",
       "      <td>30.45</td>\n",
       "      <td>32.84</td>\n",
       "      <td>33.06</td>\n",
       "      <td>29.50</td>\n",
       "      <td>102741</td>\n",
       "      <td>3.929316e+08</td>\n",
       "      <td>11.65</td>\n",
       "      <td>7.50</td>\n",
       "      <td>2.29</td>\n",
       "      <td>2.68</td>\n",
       "      <td>000596</td>\n",
       "      <td>0.000000</td>\n",
       "      <td>33.589655</td>\n",
       "      <td>31.270345</td>\n",
       "      <td>0.000000</td>\n",
       "      <td>66.666667</td>\n",
       "      <td>100.000000</td>\n",
       "      <td>32.840000</td>\n",
       "      <td>32.840000</td>\n",
       "    </tr>\n",
       "    <tr>\n",
       "      <th>...</th>\n",
       "      <td>...</td>\n",
       "      <td>...</td>\n",
       "      <td>...</td>\n",
       "      <td>...</td>\n",
       "      <td>...</td>\n",
       "      <td>...</td>\n",
       "      <td>...</td>\n",
       "      <td>...</td>\n",
       "      <td>...</td>\n",
       "      <td>...</td>\n",
       "      <td>...</td>\n",
       "      <td>...</td>\n",
       "      <td>...</td>\n",
       "      <td>...</td>\n",
       "      <td>...</td>\n",
       "      <td>...</td>\n",
       "      <td>...</td>\n",
       "      <td>...</td>\n",
       "      <td>...</td>\n",
       "      <td>...</td>\n",
       "    </tr>\n",
       "    <tr>\n",
       "      <th>53789</th>\n",
       "      <td>2022-05-19</td>\n",
       "      <td>5.10</td>\n",
       "      <td>5.14</td>\n",
       "      <td>5.14</td>\n",
       "      <td>5.05</td>\n",
       "      <td>1486892</td>\n",
       "      <td>7.573429e+08</td>\n",
       "      <td>1.74</td>\n",
       "      <td>-0.77</td>\n",
       "      <td>-0.04</td>\n",
       "      <td>0.09</td>\n",
       "      <td>601857</td>\n",
       "      <td>-0.066283</td>\n",
       "      <td>5.523831</td>\n",
       "      <td>4.935169</td>\n",
       "      <td>46.361308</td>\n",
       "      <td>-86.405581</td>\n",
       "      <td>24.164742</td>\n",
       "      <td>5.327667</td>\n",
       "      <td>5.446333</td>\n",
       "    </tr>\n",
       "    <tr>\n",
       "      <th>55582</th>\n",
       "      <td>2022-05-19</td>\n",
       "      <td>9.10</td>\n",
       "      <td>9.34</td>\n",
       "      <td>9.36</td>\n",
       "      <td>8.94</td>\n",
       "      <td>331160</td>\n",
       "      <td>3.036308e+08</td>\n",
       "      <td>4.47</td>\n",
       "      <td>-0.53</td>\n",
       "      <td>-0.05</td>\n",
       "      <td>0.36</td>\n",
       "      <td>601898</td>\n",
       "      <td>0.254569</td>\n",
       "      <td>9.996553</td>\n",
       "      <td>8.357447</td>\n",
       "      <td>57.025973</td>\n",
       "      <td>21.817758</td>\n",
       "      <td>6.263447</td>\n",
       "      <td>9.067000</td>\n",
       "      <td>8.193167</td>\n",
       "    </tr>\n",
       "    <tr>\n",
       "      <th>57375</th>\n",
       "      <td>2022-05-19</td>\n",
       "      <td>5.96</td>\n",
       "      <td>5.96</td>\n",
       "      <td>5.97</td>\n",
       "      <td>5.93</td>\n",
       "      <td>513852</td>\n",
       "      <td>3.057478e+08</td>\n",
       "      <td>0.67</td>\n",
       "      <td>-0.33</td>\n",
       "      <td>-0.02</td>\n",
       "      <td>0.54</td>\n",
       "      <td>601939</td>\n",
       "      <td>-0.045301</td>\n",
       "      <td>6.179791</td>\n",
       "      <td>5.891209</td>\n",
       "      <td>45.627058</td>\n",
       "      <td>-94.685526</td>\n",
       "      <td>20.133213</td>\n",
       "      <td>6.107333</td>\n",
       "      <td>6.089833</td>\n",
       "    </tr>\n",
       "    <tr>\n",
       "      <th>59168</th>\n",
       "      <td>2022-05-19</td>\n",
       "      <td>3.18</td>\n",
       "      <td>3.18</td>\n",
       "      <td>3.19</td>\n",
       "      <td>3.17</td>\n",
       "      <td>1053013</td>\n",
       "      <td>3.349490e+08</td>\n",
       "      <td>0.63</td>\n",
       "      <td>-0.31</td>\n",
       "      <td>-0.01</td>\n",
       "      <td>0.05</td>\n",
       "      <td>601988</td>\n",
       "      <td>-0.009854</td>\n",
       "      <td>3.302579</td>\n",
       "      <td>3.152421</td>\n",
       "      <td>48.477499</td>\n",
       "      <td>-117.975289</td>\n",
       "      <td>20.105494</td>\n",
       "      <td>3.245667</td>\n",
       "      <td>3.188667</td>\n",
       "    </tr>\n",
       "    <tr>\n",
       "      <th>60961</th>\n",
       "      <td>2022-05-19</td>\n",
       "      <td>73.38</td>\n",
       "      <td>73.12</td>\n",
       "      <td>73.60</td>\n",
       "      <td>72.40</td>\n",
       "      <td>43992</td>\n",
       "      <td>3.211448e+08</td>\n",
       "      <td>1.62</td>\n",
       "      <td>-1.38</td>\n",
       "      <td>-1.02</td>\n",
       "      <td>0.09</td>\n",
       "      <td>603288</td>\n",
       "      <td>-1.887467</td>\n",
       "      <td>84.814938</td>\n",
       "      <td>71.566062</td>\n",
       "      <td>39.391077</td>\n",
       "      <td>-140.742510</td>\n",
       "      <td>27.890301</td>\n",
       "      <td>78.408000</td>\n",
       "      <td>81.240500</td>\n",
       "    </tr>\n",
       "  </tbody>\n",
       "</table>\n",
       "<p>60962 rows × 20 columns</p>\n",
       "</div>"
      ],
      "text/plain": [
       "             date   open  close   high    low   volume           成交额     振幅  \\\n",
       "0      2015-01-05  10.02  10.04  10.22   9.75  2860436  4.565388e+09   4.74   \n",
       "1      2015-01-05  10.02  10.04  10.22   9.75  2860436  4.565388e+09   4.74   \n",
       "2      2015-01-05  10.02  10.04  10.22   9.75  2860436  4.565388e+09   4.74   \n",
       "3      2015-01-05  10.02  10.04  10.22   9.75  2860436  4.565388e+09   4.74   \n",
       "7172   2015-01-05  30.45  32.84  33.06  29.50   102741  3.929316e+08  11.65   \n",
       "...           ...    ...    ...    ...    ...      ...           ...    ...   \n",
       "53789  2022-05-19   5.10   5.14   5.14   5.05  1486892  7.573429e+08   1.74   \n",
       "55582  2022-05-19   9.10   9.34   9.36   8.94   331160  3.036308e+08   4.47   \n",
       "57375  2022-05-19   5.96   5.96   5.97   5.93   513852  3.057478e+08   0.67   \n",
       "59168  2022-05-19   3.18   3.18   3.19   3.17  1053013  3.349490e+08   0.63   \n",
       "60961  2022-05-19  73.38  73.12  73.60  72.40    43992  3.211448e+08   1.62   \n",
       "\n",
       "        涨跌幅   涨跌额   换手率     tic      macd    boll_ub    boll_lb     rsi_30  \\\n",
       "0      1.31  0.13  2.91  000001  0.000000  33.589655  31.270345   0.000000   \n",
       "1      1.31  0.13  2.91  000001  0.000000  33.589655  31.270345   0.000000   \n",
       "2      1.31  0.13  2.91  000001  0.000000  33.589655  31.270345   0.000000   \n",
       "3      1.31  0.13  2.91  000001  0.000000  33.589655  31.270345   0.000000   \n",
       "7172   7.50  2.29  2.68  000596  0.000000  33.589655  31.270345   0.000000   \n",
       "...     ...   ...   ...     ...       ...        ...        ...        ...   \n",
       "53789 -0.77 -0.04  0.09  601857 -0.066283   5.523831   4.935169  46.361308   \n",
       "55582 -0.53 -0.05  0.36  601898  0.254569   9.996553   8.357447  57.025973   \n",
       "57375 -0.33 -0.02  0.54  601939 -0.045301   6.179791   5.891209  45.627058   \n",
       "59168 -0.31 -0.01  0.05  601988 -0.009854   3.302579   3.152421  48.477499   \n",
       "60961 -1.38 -1.02  0.09  603288 -1.887467  84.814938  71.566062  39.391077   \n",
       "\n",
       "           cci_30       dx_30  close_30_sma  close_60_sma  \n",
       "0       66.666667  100.000000     32.840000     32.840000  \n",
       "1       66.666667  100.000000     32.840000     32.840000  \n",
       "2       66.666667  100.000000     32.840000     32.840000  \n",
       "3       66.666667  100.000000     32.840000     32.840000  \n",
       "7172    66.666667  100.000000     32.840000     32.840000  \n",
       "...           ...         ...           ...           ...  \n",
       "53789  -86.405581   24.164742      5.327667      5.446333  \n",
       "55582   21.817758    6.263447      9.067000      8.193167  \n",
       "57375  -94.685526   20.133213      6.107333      6.089833  \n",
       "59168 -117.975289   20.105494      3.245667      3.188667  \n",
       "60961 -140.742510   27.890301     78.408000     81.240500  \n",
       "\n",
       "[60962 rows x 20 columns]"
      ]
     },
     "execution_count": 22,
     "metadata": {},
     "output_type": "execute_result"
    }
   ],
   "source": [
    "processed"
   ]
  },
  {
   "cell_type": "code",
   "execution_count": 23,
   "metadata": {
    "id": "Kixon2tR3RLT"
   },
   "outputs": [],
   "source": [
    "list_ticker = processed[\"tic\"].unique().tolist()\n",
    "list_date = list(pd.date_range(processed['date'].min(),processed['date'].max()).astype(str))\n",
    "combination = list(itertools.product(list_date,list_ticker))\n",
    "\n",
    "processed_full = pd.DataFrame(combination,columns=[\"date\",\"tic\"]).merge(processed,on=[\"date\",\"tic\"],how=\"left\")\n",
    "processed_full = processed_full[processed_full['date'].isin(processed['date'])]\n",
    "processed_full = processed_full.sort_values(['date','tic'])\n",
    "\n",
    "processed_full = processed_full.fillna(0)"
   ]
  },
  {
   "cell_type": "code",
   "execution_count": 35,
   "metadata": {
    "colab": {
     "base_uri": "https://localhost:8080/",
     "height": 600
    },
    "id": "grvhGJJII3Xn",
    "outputId": "733758c3-3552-4aa5-e1f9-789bd4ce0c92"
   },
   "outputs": [
    {
     "data": {
      "text/html": [
       "<div>\n",
       "<style scoped>\n",
       "    .dataframe tbody tr th:only-of-type {\n",
       "        vertical-align: middle;\n",
       "    }\n",
       "\n",
       "    .dataframe tbody tr th {\n",
       "        vertical-align: top;\n",
       "    }\n",
       "\n",
       "    .dataframe thead th {\n",
       "        text-align: right;\n",
       "    }\n",
       "</style>\n",
       "<table border=\"1\" class=\"dataframe\">\n",
       "  <thead>\n",
       "    <tr style=\"text-align: right;\">\n",
       "      <th></th>\n",
       "      <th>date</th>\n",
       "      <th>tic</th>\n",
       "      <th>open</th>\n",
       "      <th>close</th>\n",
       "      <th>high</th>\n",
       "      <th>low</th>\n",
       "      <th>volume</th>\n",
       "      <th>成交额</th>\n",
       "      <th>振幅</th>\n",
       "      <th>涨跌幅</th>\n",
       "      <th>涨跌额</th>\n",
       "      <th>换手率</th>\n",
       "      <th>macd</th>\n",
       "      <th>boll_ub</th>\n",
       "      <th>boll_lb</th>\n",
       "      <th>rsi_30</th>\n",
       "      <th>cci_30</th>\n",
       "      <th>dx_30</th>\n",
       "      <th>close_30_sma</th>\n",
       "      <th>close_60_sma</th>\n",
       "    </tr>\n",
       "  </thead>\n",
       "  <tbody>\n",
       "    <tr>\n",
       "      <th>0</th>\n",
       "      <td>2015-01-05</td>\n",
       "      <td>000001</td>\n",
       "      <td>10.02</td>\n",
       "      <td>10.04</td>\n",
       "      <td>10.22</td>\n",
       "      <td>9.75</td>\n",
       "      <td>2860436.0</td>\n",
       "      <td>4.565388e+09</td>\n",
       "      <td>4.74</td>\n",
       "      <td>1.31</td>\n",
       "      <td>0.13</td>\n",
       "      <td>2.91</td>\n",
       "      <td>0.000000</td>\n",
       "      <td>33.589655</td>\n",
       "      <td>31.270345</td>\n",
       "      <td>0.000000</td>\n",
       "      <td>66.666667</td>\n",
       "      <td>100.000000</td>\n",
       "      <td>32.840000</td>\n",
       "      <td>32.840000</td>\n",
       "    </tr>\n",
       "    <tr>\n",
       "      <th>1</th>\n",
       "      <td>2015-01-05</td>\n",
       "      <td>000001</td>\n",
       "      <td>10.02</td>\n",
       "      <td>10.04</td>\n",
       "      <td>10.22</td>\n",
       "      <td>9.75</td>\n",
       "      <td>2860436.0</td>\n",
       "      <td>4.565388e+09</td>\n",
       "      <td>4.74</td>\n",
       "      <td>1.31</td>\n",
       "      <td>0.13</td>\n",
       "      <td>2.91</td>\n",
       "      <td>0.000000</td>\n",
       "      <td>33.589655</td>\n",
       "      <td>31.270345</td>\n",
       "      <td>0.000000</td>\n",
       "      <td>66.666667</td>\n",
       "      <td>100.000000</td>\n",
       "      <td>32.840000</td>\n",
       "      <td>32.840000</td>\n",
       "    </tr>\n",
       "    <tr>\n",
       "      <th>2</th>\n",
       "      <td>2015-01-05</td>\n",
       "      <td>000001</td>\n",
       "      <td>10.02</td>\n",
       "      <td>10.04</td>\n",
       "      <td>10.22</td>\n",
       "      <td>9.75</td>\n",
       "      <td>2860436.0</td>\n",
       "      <td>4.565388e+09</td>\n",
       "      <td>4.74</td>\n",
       "      <td>1.31</td>\n",
       "      <td>0.13</td>\n",
       "      <td>2.91</td>\n",
       "      <td>0.000000</td>\n",
       "      <td>33.589655</td>\n",
       "      <td>31.270345</td>\n",
       "      <td>0.000000</td>\n",
       "      <td>66.666667</td>\n",
       "      <td>100.000000</td>\n",
       "      <td>32.840000</td>\n",
       "      <td>32.840000</td>\n",
       "    </tr>\n",
       "    <tr>\n",
       "      <th>3</th>\n",
       "      <td>2015-01-05</td>\n",
       "      <td>000001</td>\n",
       "      <td>10.02</td>\n",
       "      <td>10.04</td>\n",
       "      <td>10.22</td>\n",
       "      <td>9.75</td>\n",
       "      <td>2860436.0</td>\n",
       "      <td>4.565388e+09</td>\n",
       "      <td>4.74</td>\n",
       "      <td>1.31</td>\n",
       "      <td>0.13</td>\n",
       "      <td>2.91</td>\n",
       "      <td>0.000000</td>\n",
       "      <td>33.589655</td>\n",
       "      <td>31.270345</td>\n",
       "      <td>0.000000</td>\n",
       "      <td>66.666667</td>\n",
       "      <td>100.000000</td>\n",
       "      <td>32.840000</td>\n",
       "      <td>32.840000</td>\n",
       "    </tr>\n",
       "    <tr>\n",
       "      <th>4</th>\n",
       "      <td>2015-01-05</td>\n",
       "      <td>000596</td>\n",
       "      <td>30.45</td>\n",
       "      <td>32.84</td>\n",
       "      <td>33.06</td>\n",
       "      <td>29.50</td>\n",
       "      <td>102741.0</td>\n",
       "      <td>3.929316e+08</td>\n",
       "      <td>11.65</td>\n",
       "      <td>7.50</td>\n",
       "      <td>2.29</td>\n",
       "      <td>2.68</td>\n",
       "      <td>0.000000</td>\n",
       "      <td>33.589655</td>\n",
       "      <td>31.270345</td>\n",
       "      <td>0.000000</td>\n",
       "      <td>66.666667</td>\n",
       "      <td>100.000000</td>\n",
       "      <td>32.840000</td>\n",
       "      <td>32.840000</td>\n",
       "    </tr>\n",
       "    <tr>\n",
       "      <th>...</th>\n",
       "      <td>...</td>\n",
       "      <td>...</td>\n",
       "      <td>...</td>\n",
       "      <td>...</td>\n",
       "      <td>...</td>\n",
       "      <td>...</td>\n",
       "      <td>...</td>\n",
       "      <td>...</td>\n",
       "      <td>...</td>\n",
       "      <td>...</td>\n",
       "      <td>...</td>\n",
       "      <td>...</td>\n",
       "      <td>...</td>\n",
       "      <td>...</td>\n",
       "      <td>...</td>\n",
       "      <td>...</td>\n",
       "      <td>...</td>\n",
       "      <td>...</td>\n",
       "      <td>...</td>\n",
       "      <td>...</td>\n",
       "    </tr>\n",
       "    <tr>\n",
       "      <th>60957</th>\n",
       "      <td>2022-05-19</td>\n",
       "      <td>601857</td>\n",
       "      <td>5.10</td>\n",
       "      <td>5.14</td>\n",
       "      <td>5.14</td>\n",
       "      <td>5.05</td>\n",
       "      <td>1486892.0</td>\n",
       "      <td>7.573429e+08</td>\n",
       "      <td>1.74</td>\n",
       "      <td>-0.77</td>\n",
       "      <td>-0.04</td>\n",
       "      <td>0.09</td>\n",
       "      <td>-0.066283</td>\n",
       "      <td>5.523831</td>\n",
       "      <td>4.935169</td>\n",
       "      <td>46.361308</td>\n",
       "      <td>-86.405581</td>\n",
       "      <td>24.164742</td>\n",
       "      <td>5.327667</td>\n",
       "      <td>5.446333</td>\n",
       "    </tr>\n",
       "    <tr>\n",
       "      <th>60958</th>\n",
       "      <td>2022-05-19</td>\n",
       "      <td>601898</td>\n",
       "      <td>9.10</td>\n",
       "      <td>9.34</td>\n",
       "      <td>9.36</td>\n",
       "      <td>8.94</td>\n",
       "      <td>331160.0</td>\n",
       "      <td>3.036308e+08</td>\n",
       "      <td>4.47</td>\n",
       "      <td>-0.53</td>\n",
       "      <td>-0.05</td>\n",
       "      <td>0.36</td>\n",
       "      <td>0.254569</td>\n",
       "      <td>9.996553</td>\n",
       "      <td>8.357447</td>\n",
       "      <td>57.025973</td>\n",
       "      <td>21.817758</td>\n",
       "      <td>6.263447</td>\n",
       "      <td>9.067000</td>\n",
       "      <td>8.193167</td>\n",
       "    </tr>\n",
       "    <tr>\n",
       "      <th>60959</th>\n",
       "      <td>2022-05-19</td>\n",
       "      <td>601939</td>\n",
       "      <td>5.96</td>\n",
       "      <td>5.96</td>\n",
       "      <td>5.97</td>\n",
       "      <td>5.93</td>\n",
       "      <td>513852.0</td>\n",
       "      <td>3.057478e+08</td>\n",
       "      <td>0.67</td>\n",
       "      <td>-0.33</td>\n",
       "      <td>-0.02</td>\n",
       "      <td>0.54</td>\n",
       "      <td>-0.045301</td>\n",
       "      <td>6.179791</td>\n",
       "      <td>5.891209</td>\n",
       "      <td>45.627058</td>\n",
       "      <td>-94.685526</td>\n",
       "      <td>20.133213</td>\n",
       "      <td>6.107333</td>\n",
       "      <td>6.089833</td>\n",
       "    </tr>\n",
       "    <tr>\n",
       "      <th>60960</th>\n",
       "      <td>2022-05-19</td>\n",
       "      <td>601988</td>\n",
       "      <td>3.18</td>\n",
       "      <td>3.18</td>\n",
       "      <td>3.19</td>\n",
       "      <td>3.17</td>\n",
       "      <td>1053013.0</td>\n",
       "      <td>3.349490e+08</td>\n",
       "      <td>0.63</td>\n",
       "      <td>-0.31</td>\n",
       "      <td>-0.01</td>\n",
       "      <td>0.05</td>\n",
       "      <td>-0.009854</td>\n",
       "      <td>3.302579</td>\n",
       "      <td>3.152421</td>\n",
       "      <td>48.477499</td>\n",
       "      <td>-117.975289</td>\n",
       "      <td>20.105494</td>\n",
       "      <td>3.245667</td>\n",
       "      <td>3.188667</td>\n",
       "    </tr>\n",
       "    <tr>\n",
       "      <th>60961</th>\n",
       "      <td>2022-05-19</td>\n",
       "      <td>603288</td>\n",
       "      <td>73.38</td>\n",
       "      <td>73.12</td>\n",
       "      <td>73.60</td>\n",
       "      <td>72.40</td>\n",
       "      <td>43992.0</td>\n",
       "      <td>3.211448e+08</td>\n",
       "      <td>1.62</td>\n",
       "      <td>-1.38</td>\n",
       "      <td>-1.02</td>\n",
       "      <td>0.09</td>\n",
       "      <td>-1.887467</td>\n",
       "      <td>84.814938</td>\n",
       "      <td>71.566062</td>\n",
       "      <td>39.391077</td>\n",
       "      <td>-140.742510</td>\n",
       "      <td>27.890301</td>\n",
       "      <td>78.408000</td>\n",
       "      <td>81.240500</td>\n",
       "    </tr>\n",
       "  </tbody>\n",
       "</table>\n",
       "<p>60962 rows × 20 columns</p>\n",
       "</div>"
      ],
      "text/plain": [
       "             date     tic   open  close   high    low     volume  \\\n",
       "0      2015-01-05  000001  10.02  10.04  10.22   9.75  2860436.0   \n",
       "1      2015-01-05  000001  10.02  10.04  10.22   9.75  2860436.0   \n",
       "2      2015-01-05  000001  10.02  10.04  10.22   9.75  2860436.0   \n",
       "3      2015-01-05  000001  10.02  10.04  10.22   9.75  2860436.0   \n",
       "4      2015-01-05  000596  30.45  32.84  33.06  29.50   102741.0   \n",
       "...           ...     ...    ...    ...    ...    ...        ...   \n",
       "60957  2022-05-19  601857   5.10   5.14   5.14   5.05  1486892.0   \n",
       "60958  2022-05-19  601898   9.10   9.34   9.36   8.94   331160.0   \n",
       "60959  2022-05-19  601939   5.96   5.96   5.97   5.93   513852.0   \n",
       "60960  2022-05-19  601988   3.18   3.18   3.19   3.17  1053013.0   \n",
       "60961  2022-05-19  603288  73.38  73.12  73.60  72.40    43992.0   \n",
       "\n",
       "                成交额     振幅   涨跌幅   涨跌额   换手率      macd    boll_ub    boll_lb  \\\n",
       "0      4.565388e+09   4.74  1.31  0.13  2.91  0.000000  33.589655  31.270345   \n",
       "1      4.565388e+09   4.74  1.31  0.13  2.91  0.000000  33.589655  31.270345   \n",
       "2      4.565388e+09   4.74  1.31  0.13  2.91  0.000000  33.589655  31.270345   \n",
       "3      4.565388e+09   4.74  1.31  0.13  2.91  0.000000  33.589655  31.270345   \n",
       "4      3.929316e+08  11.65  7.50  2.29  2.68  0.000000  33.589655  31.270345   \n",
       "...             ...    ...   ...   ...   ...       ...        ...        ...   \n",
       "60957  7.573429e+08   1.74 -0.77 -0.04  0.09 -0.066283   5.523831   4.935169   \n",
       "60958  3.036308e+08   4.47 -0.53 -0.05  0.36  0.254569   9.996553   8.357447   \n",
       "60959  3.057478e+08   0.67 -0.33 -0.02  0.54 -0.045301   6.179791   5.891209   \n",
       "60960  3.349490e+08   0.63 -0.31 -0.01  0.05 -0.009854   3.302579   3.152421   \n",
       "60961  3.211448e+08   1.62 -1.38 -1.02  0.09 -1.887467  84.814938  71.566062   \n",
       "\n",
       "          rsi_30      cci_30       dx_30  close_30_sma  close_60_sma  \n",
       "0       0.000000   66.666667  100.000000     32.840000     32.840000  \n",
       "1       0.000000   66.666667  100.000000     32.840000     32.840000  \n",
       "2       0.000000   66.666667  100.000000     32.840000     32.840000  \n",
       "3       0.000000   66.666667  100.000000     32.840000     32.840000  \n",
       "4       0.000000   66.666667  100.000000     32.840000     32.840000  \n",
       "...          ...         ...         ...           ...           ...  \n",
       "60957  46.361308  -86.405581   24.164742      5.327667      5.446333  \n",
       "60958  57.025973   21.817758    6.263447      9.067000      8.193167  \n",
       "60959  45.627058  -94.685526   20.133213      6.107333      6.089833  \n",
       "60960  48.477499 -117.975289   20.105494      3.245667      3.188667  \n",
       "60961  39.391077 -140.742510   27.890301     78.408000     81.240500  \n",
       "\n",
       "[60962 rows x 20 columns]"
      ]
     },
     "execution_count": 35,
     "metadata": {},
     "output_type": "execute_result"
    }
   ],
   "source": [
    "processed_full.sort_values(['date','tic'],ignore_index=True)"
   ]
  },
  {
   "cell_type": "markdown",
   "metadata": {
    "id": "-QsYaY0Dh1iw"
   },
   "source": [
    "<a id='4'></a>\n",
    "# Part 5. Design Environment\n",
    "Considering the stochastic and interactive nature of the automated stock trading tasks, a financial task is modeled as a **Markov Decision Process (MDP)** problem. The training process involves observing stock price change, taking an action and reward's calculation to have the agent adjusting its strategy accordingly. By interacting with the environment, the trading agent will derive a trading strategy with the maximized rewards as time proceeds.\n",
    "\n",
    "Our trading environments, based on OpenAI Gym framework, simulate live stock markets with real market data according to the principle of time-driven simulation.\n",
    "\n",
    "The action space describes the allowed actions that the agent interacts with the environment. Normally, action a includes three actions: {-1, 0, 1}, where -1, 0, 1 represent selling, holding, and buying one share. Also, an action can be carried upon multiple shares. We use an action space {-k,…,-1, 0, 1, …, k}, where k denotes the number of shares to buy and -k denotes the number of shares to sell. For example, \"Buy 10 shares of AAPL\" or \"Sell 10 shares of AAPL\" are 10 or -10, respectively. The continuous action space needs to be normalized to [-1, 1], since the policy is defined on a Gaussian distribution, which needs to be normalized and symmetric."
   ]
  },
  {
   "cell_type": "markdown",
   "metadata": {
    "id": "5TOhcryx44bb"
   },
   "source": [
    "## Training data split: 2009-01-01 to 2020-07-01\n",
    "## Trade data split: 2020-07-01 to 2021-10-31"
   ]
  },
  {
   "cell_type": "code",
   "execution_count": 36,
   "metadata": {
    "colab": {
     "base_uri": "https://localhost:8080/"
    },
    "id": "W0qaVGjLtgbI",
    "outputId": "ca8d1a43-ffc3-4fc3-efa9-4de9a9065842"
   },
   "outputs": [
    {
     "name": "stdout",
     "output_type": "stream",
     "text": [
      "45424\n",
      "11016\n"
     ]
    }
   ],
   "source": [
    "train = data_split(processed_full, '2009-01-01','2020-07-01')\n",
    "trade = data_split(processed_full, '2020-07-01','2021-10-31')\n",
    "print(len(train))\n",
    "print(len(trade))"
   ]
  },
  {
   "cell_type": "code",
   "execution_count": 41,
   "metadata": {
    "colab": {
     "base_uri": "https://localhost:8080/",
     "height": 357
    },
    "id": "p52zNCOhTtLR",
    "outputId": "b3ad3e10-376f-4186-f875-0331708c5e14"
   },
   "outputs": [
    {
     "data": {
      "text/html": [
       "<div>\n",
       "<style scoped>\n",
       "    .dataframe tbody tr th:only-of-type {\n",
       "        vertical-align: middle;\n",
       "    }\n",
       "\n",
       "    .dataframe tbody tr th {\n",
       "        vertical-align: top;\n",
       "    }\n",
       "\n",
       "    .dataframe thead th {\n",
       "        text-align: right;\n",
       "    }\n",
       "</style>\n",
       "<table border=\"1\" class=\"dataframe\">\n",
       "  <thead>\n",
       "    <tr style=\"text-align: right;\">\n",
       "      <th></th>\n",
       "      <th>date</th>\n",
       "      <th>tic</th>\n",
       "      <th>open</th>\n",
       "      <th>close</th>\n",
       "      <th>high</th>\n",
       "      <th>low</th>\n",
       "      <th>volume</th>\n",
       "      <th>成交额</th>\n",
       "      <th>振幅</th>\n",
       "      <th>涨跌幅</th>\n",
       "      <th>涨跌额</th>\n",
       "      <th>换手率</th>\n",
       "      <th>macd</th>\n",
       "      <th>boll_ub</th>\n",
       "      <th>boll_lb</th>\n",
       "      <th>rsi_30</th>\n",
       "      <th>cci_30</th>\n",
       "      <th>dx_30</th>\n",
       "      <th>close_30_sma</th>\n",
       "      <th>close_60_sma</th>\n",
       "    </tr>\n",
       "  </thead>\n",
       "  <tbody>\n",
       "    <tr>\n",
       "      <th>1335</th>\n",
       "      <td>2020-06-30</td>\n",
       "      <td>601857</td>\n",
       "      <td>3.89</td>\n",
       "      <td>3.88</td>\n",
       "      <td>3.89</td>\n",
       "      <td>3.87</td>\n",
       "      <td>479472.0</td>\n",
       "      <td>200938795.0</td>\n",
       "      <td>0.52</td>\n",
       "      <td>0.26</td>\n",
       "      <td>0.01</td>\n",
       "      <td>0.03</td>\n",
       "      <td>-0.039919</td>\n",
       "      <td>3.987069</td>\n",
       "      <td>3.845931</td>\n",
       "      <td>37.707686</td>\n",
       "      <td>-83.865475</td>\n",
       "      <td>18.138225</td>\n",
       "      <td>3.944000</td>\n",
       "      <td>4.046833</td>\n",
       "    </tr>\n",
       "    <tr>\n",
       "      <th>1335</th>\n",
       "      <td>2020-06-30</td>\n",
       "      <td>601898</td>\n",
       "      <td>3.54</td>\n",
       "      <td>3.54</td>\n",
       "      <td>3.55</td>\n",
       "      <td>3.52</td>\n",
       "      <td>66604.0</td>\n",
       "      <td>25296979.0</td>\n",
       "      <td>0.85</td>\n",
       "      <td>0.85</td>\n",
       "      <td>0.03</td>\n",
       "      <td>0.07</td>\n",
       "      <td>-0.001434</td>\n",
       "      <td>3.668861</td>\n",
       "      <td>3.470139</td>\n",
       "      <td>44.954021</td>\n",
       "      <td>-23.397762</td>\n",
       "      <td>5.787248</td>\n",
       "      <td>3.550000</td>\n",
       "      <td>3.586833</td>\n",
       "    </tr>\n",
       "    <tr>\n",
       "      <th>1335</th>\n",
       "      <td>2020-06-30</td>\n",
       "      <td>601939</td>\n",
       "      <td>5.65</td>\n",
       "      <td>5.66</td>\n",
       "      <td>5.68</td>\n",
       "      <td>5.63</td>\n",
       "      <td>726096.0</td>\n",
       "      <td>457752784.0</td>\n",
       "      <td>0.89</td>\n",
       "      <td>0.53</td>\n",
       "      <td>0.03</td>\n",
       "      <td>0.76</td>\n",
       "      <td>-0.021941</td>\n",
       "      <td>5.818804</td>\n",
       "      <td>5.577196</td>\n",
       "      <td>46.603733</td>\n",
       "      <td>-74.795726</td>\n",
       "      <td>12.267305</td>\n",
       "      <td>5.705333</td>\n",
       "      <td>5.697333</td>\n",
       "    </tr>\n",
       "    <tr>\n",
       "      <th>1335</th>\n",
       "      <td>2020-06-30</td>\n",
       "      <td>601988</td>\n",
       "      <td>3.09</td>\n",
       "      <td>3.09</td>\n",
       "      <td>3.10</td>\n",
       "      <td>3.07</td>\n",
       "      <td>676550.0</td>\n",
       "      <td>235147984.0</td>\n",
       "      <td>0.97</td>\n",
       "      <td>0.32</td>\n",
       "      <td>0.01</td>\n",
       "      <td>0.03</td>\n",
       "      <td>-0.002396</td>\n",
       "      <td>3.129103</td>\n",
       "      <td>3.044897</td>\n",
       "      <td>49.411152</td>\n",
       "      <td>35.202086</td>\n",
       "      <td>11.788107</td>\n",
       "      <td>3.077667</td>\n",
       "      <td>3.087333</td>\n",
       "    </tr>\n",
       "    <tr>\n",
       "      <th>1335</th>\n",
       "      <td>2020-06-30</td>\n",
       "      <td>603288</td>\n",
       "      <td>85.75</td>\n",
       "      <td>85.58</td>\n",
       "      <td>85.85</td>\n",
       "      <td>84.50</td>\n",
       "      <td>37871.0</td>\n",
       "      <td>468710064.0</td>\n",
       "      <td>1.57</td>\n",
       "      <td>-0.21</td>\n",
       "      <td>-0.18</td>\n",
       "      <td>0.12</td>\n",
       "      <td>2.200619</td>\n",
       "      <td>85.601811</td>\n",
       "      <td>75.188189</td>\n",
       "      <td>65.170001</td>\n",
       "      <td>235.031478</td>\n",
       "      <td>54.942937</td>\n",
       "      <td>79.882667</td>\n",
       "      <td>76.193500</td>\n",
       "    </tr>\n",
       "  </tbody>\n",
       "</table>\n",
       "</div>"
      ],
      "text/plain": [
       "            date     tic   open  close   high    low    volume          成交额  \\\n",
       "1335  2020-06-30  601857   3.89   3.88   3.89   3.87  479472.0  200938795.0   \n",
       "1335  2020-06-30  601898   3.54   3.54   3.55   3.52   66604.0   25296979.0   \n",
       "1335  2020-06-30  601939   5.65   5.66   5.68   5.63  726096.0  457752784.0   \n",
       "1335  2020-06-30  601988   3.09   3.09   3.10   3.07  676550.0  235147984.0   \n",
       "1335  2020-06-30  603288  85.75  85.58  85.85  84.50   37871.0  468710064.0   \n",
       "\n",
       "        振幅   涨跌幅   涨跌额   换手率      macd    boll_ub    boll_lb     rsi_30  \\\n",
       "1335  0.52  0.26  0.01  0.03 -0.039919   3.987069   3.845931  37.707686   \n",
       "1335  0.85  0.85  0.03  0.07 -0.001434   3.668861   3.470139  44.954021   \n",
       "1335  0.89  0.53  0.03  0.76 -0.021941   5.818804   5.577196  46.603733   \n",
       "1335  0.97  0.32  0.01  0.03 -0.002396   3.129103   3.044897  49.411152   \n",
       "1335  1.57 -0.21 -0.18  0.12  2.200619  85.601811  75.188189  65.170001   \n",
       "\n",
       "          cci_30      dx_30  close_30_sma  close_60_sma  \n",
       "1335  -83.865475  18.138225      3.944000      4.046833  \n",
       "1335  -23.397762   5.787248      3.550000      3.586833  \n",
       "1335  -74.795726  12.267305      5.705333      5.697333  \n",
       "1335   35.202086  11.788107      3.077667      3.087333  \n",
       "1335  235.031478  54.942937     79.882667     76.193500  "
      ]
     },
     "execution_count": 41,
     "metadata": {},
     "output_type": "execute_result"
    }
   ],
   "source": [
    "train.tail()"
   ]
  },
  {
   "cell_type": "code",
   "execution_count": 40,
   "metadata": {
    "colab": {
     "base_uri": "https://localhost:8080/",
     "height": 357
    },
    "id": "k9zU9YaTTvFq",
    "outputId": "72213585-39a3-4bff-c031-874ec0ca06f9"
   },
   "outputs": [
    {
     "data": {
      "text/html": [
       "<div>\n",
       "<style scoped>\n",
       "    .dataframe tbody tr th:only-of-type {\n",
       "        vertical-align: middle;\n",
       "    }\n",
       "\n",
       "    .dataframe tbody tr th {\n",
       "        vertical-align: top;\n",
       "    }\n",
       "\n",
       "    .dataframe thead th {\n",
       "        text-align: right;\n",
       "    }\n",
       "</style>\n",
       "<table border=\"1\" class=\"dataframe\">\n",
       "  <thead>\n",
       "    <tr style=\"text-align: right;\">\n",
       "      <th></th>\n",
       "      <th>date</th>\n",
       "      <th>tic</th>\n",
       "      <th>open</th>\n",
       "      <th>close</th>\n",
       "      <th>high</th>\n",
       "      <th>low</th>\n",
       "      <th>volume</th>\n",
       "      <th>成交额</th>\n",
       "      <th>振幅</th>\n",
       "      <th>涨跌幅</th>\n",
       "      <th>涨跌额</th>\n",
       "      <th>换手率</th>\n",
       "      <th>macd</th>\n",
       "      <th>boll_ub</th>\n",
       "      <th>boll_lb</th>\n",
       "      <th>rsi_30</th>\n",
       "      <th>cci_30</th>\n",
       "      <th>dx_30</th>\n",
       "      <th>close_30_sma</th>\n",
       "      <th>close_60_sma</th>\n",
       "    </tr>\n",
       "  </thead>\n",
       "  <tbody>\n",
       "    <tr>\n",
       "      <th>0</th>\n",
       "      <td>2020-07-01</td>\n",
       "      <td>000001</td>\n",
       "      <td>12.61</td>\n",
       "      <td>12.94</td>\n",
       "      <td>12.97</td>\n",
       "      <td>12.56</td>\n",
       "      <td>1697390.0</td>\n",
       "      <td>2.202801e+09</td>\n",
       "      <td>3.25</td>\n",
       "      <td>2.54</td>\n",
       "      <td>0.32</td>\n",
       "      <td>0.87</td>\n",
       "      <td>-0.062762</td>\n",
       "      <td>85.601811</td>\n",
       "      <td>75.188189</td>\n",
       "      <td>65.170001</td>\n",
       "      <td>235.031478</td>\n",
       "      <td>54.942937</td>\n",
       "      <td>79.882667</td>\n",
       "      <td>76.193500</td>\n",
       "    </tr>\n",
       "    <tr>\n",
       "      <th>0</th>\n",
       "      <td>2020-07-01</td>\n",
       "      <td>000001</td>\n",
       "      <td>12.61</td>\n",
       "      <td>12.94</td>\n",
       "      <td>12.97</td>\n",
       "      <td>12.56</td>\n",
       "      <td>1697390.0</td>\n",
       "      <td>2.202801e+09</td>\n",
       "      <td>3.25</td>\n",
       "      <td>2.54</td>\n",
       "      <td>0.32</td>\n",
       "      <td>0.87</td>\n",
       "      <td>-0.035580</td>\n",
       "      <td>85.601811</td>\n",
       "      <td>75.188189</td>\n",
       "      <td>65.170001</td>\n",
       "      <td>235.031478</td>\n",
       "      <td>54.942937</td>\n",
       "      <td>79.882667</td>\n",
       "      <td>76.193500</td>\n",
       "    </tr>\n",
       "    <tr>\n",
       "      <th>0</th>\n",
       "      <td>2020-07-01</td>\n",
       "      <td>000001</td>\n",
       "      <td>12.61</td>\n",
       "      <td>12.94</td>\n",
       "      <td>12.97</td>\n",
       "      <td>12.56</td>\n",
       "      <td>1697390.0</td>\n",
       "      <td>2.202801e+09</td>\n",
       "      <td>3.25</td>\n",
       "      <td>2.54</td>\n",
       "      <td>0.32</td>\n",
       "      <td>0.87</td>\n",
       "      <td>-0.062762</td>\n",
       "      <td>85.601811</td>\n",
       "      <td>75.188189</td>\n",
       "      <td>65.170001</td>\n",
       "      <td>235.031478</td>\n",
       "      <td>54.942937</td>\n",
       "      <td>79.882667</td>\n",
       "      <td>76.193500</td>\n",
       "    </tr>\n",
       "    <tr>\n",
       "      <th>0</th>\n",
       "      <td>2020-07-01</td>\n",
       "      <td>000001</td>\n",
       "      <td>12.61</td>\n",
       "      <td>12.94</td>\n",
       "      <td>12.97</td>\n",
       "      <td>12.56</td>\n",
       "      <td>1697390.0</td>\n",
       "      <td>2.202801e+09</td>\n",
       "      <td>3.25</td>\n",
       "      <td>2.54</td>\n",
       "      <td>0.32</td>\n",
       "      <td>0.87</td>\n",
       "      <td>-0.035580</td>\n",
       "      <td>85.601811</td>\n",
       "      <td>75.188189</td>\n",
       "      <td>65.170001</td>\n",
       "      <td>235.031478</td>\n",
       "      <td>54.942937</td>\n",
       "      <td>79.882667</td>\n",
       "      <td>76.193500</td>\n",
       "    </tr>\n",
       "    <tr>\n",
       "      <th>0</th>\n",
       "      <td>2020-07-01</td>\n",
       "      <td>000596</td>\n",
       "      <td>146.40</td>\n",
       "      <td>160.20</td>\n",
       "      <td>161.35</td>\n",
       "      <td>145.74</td>\n",
       "      <td>53177.0</td>\n",
       "      <td>8.437840e+08</td>\n",
       "      <td>10.60</td>\n",
       "      <td>8.80</td>\n",
       "      <td>12.96</td>\n",
       "      <td>1.39</td>\n",
       "      <td>2.478236</td>\n",
       "      <td>153.534373</td>\n",
       "      <td>135.531627</td>\n",
       "      <td>65.270289</td>\n",
       "      <td>211.171187</td>\n",
       "      <td>43.952786</td>\n",
       "      <td>146.002333</td>\n",
       "      <td>136.809167</td>\n",
       "    </tr>\n",
       "  </tbody>\n",
       "</table>\n",
       "</div>"
      ],
      "text/plain": [
       "         date     tic    open   close    high     low     volume  \\\n",
       "0  2020-07-01  000001   12.61   12.94   12.97   12.56  1697390.0   \n",
       "0  2020-07-01  000001   12.61   12.94   12.97   12.56  1697390.0   \n",
       "0  2020-07-01  000001   12.61   12.94   12.97   12.56  1697390.0   \n",
       "0  2020-07-01  000001   12.61   12.94   12.97   12.56  1697390.0   \n",
       "0  2020-07-01  000596  146.40  160.20  161.35  145.74    53177.0   \n",
       "\n",
       "            成交额     振幅   涨跌幅    涨跌额   换手率      macd     boll_ub     boll_lb  \\\n",
       "0  2.202801e+09   3.25  2.54   0.32  0.87 -0.062762   85.601811   75.188189   \n",
       "0  2.202801e+09   3.25  2.54   0.32  0.87 -0.035580   85.601811   75.188189   \n",
       "0  2.202801e+09   3.25  2.54   0.32  0.87 -0.062762   85.601811   75.188189   \n",
       "0  2.202801e+09   3.25  2.54   0.32  0.87 -0.035580   85.601811   75.188189   \n",
       "0  8.437840e+08  10.60  8.80  12.96  1.39  2.478236  153.534373  135.531627   \n",
       "\n",
       "      rsi_30      cci_30      dx_30  close_30_sma  close_60_sma  \n",
       "0  65.170001  235.031478  54.942937     79.882667     76.193500  \n",
       "0  65.170001  235.031478  54.942937     79.882667     76.193500  \n",
       "0  65.170001  235.031478  54.942937     79.882667     76.193500  \n",
       "0  65.170001  235.031478  54.942937     79.882667     76.193500  \n",
       "0  65.270289  211.171187  43.952786    146.002333    136.809167  "
      ]
     },
     "execution_count": 40,
     "metadata": {},
     "output_type": "execute_result"
    }
   ],
   "source": [
    "trade.head()"
   ]
  },
  {
   "cell_type": "code",
   "execution_count": 45,
   "metadata": {
    "colab": {
     "base_uri": "https://localhost:8080/"
    },
    "id": "zYN573SOHhxG",
    "outputId": "7f228183-abe3-4477-f574-3c9b25c62cd8"
   },
   "outputs": [
    {
     "data": {
      "text/plain": [
       "['macd',\n",
       " 'boll_ub',\n",
       " 'boll_lb',\n",
       " 'rsi_30',\n",
       " 'cci_30',\n",
       " 'dx_30',\n",
       " 'close_30_sma',\n",
       " 'close_60_sma']"
      ]
     },
     "execution_count": 45,
     "metadata": {},
     "output_type": "execute_result"
    }
   ],
   "source": [
    "config.INDICATORS"
   ]
  },
  {
   "cell_type": "code",
   "execution_count": 42,
   "metadata": {
    "colab": {
     "base_uri": "https://localhost:8080/"
    },
    "id": "Q2zqII8rMIqn",
    "outputId": "1f54d044-e2d3-4a34-c041-e913d686654e"
   },
   "outputs": [
    {
     "name": "stdout",
     "output_type": "stream",
     "text": [
      "Stock Dimension: 31, State Space: 311\n"
     ]
    }
   ],
   "source": [
    "stock_dimension = len(train.tic.unique())\n",
    "state_space = 1 + 2*stock_dimension + len(config.INDICATORS)*stock_dimension\n",
    "print(f\"Stock Dimension: {stock_dimension}, State Space: {state_space}\")\n"
   ]
  },
  {
   "cell_type": "code",
   "execution_count": 43,
   "metadata": {
    "id": "AWyp84Ltto19"
   },
   "outputs": [],
   "source": [
    "buy_cost_list = sell_cost_list = [0.001] * stock_dimension\n",
    "num_stock_shares = [0] * stock_dimension\n",
    "\n",
    "env_kwargs = {\n",
    "    \"hmax\": 100,\n",
    "    \"initial_amount\": 1000000,\n",
    "    \"num_stock_shares\": num_stock_shares,\n",
    "    \"buy_cost_pct\": buy_cost_list,\n",
    "    \"sell_cost_pct\": sell_cost_list,\n",
    "    \"state_space\": state_space,\n",
    "    \"stock_dim\": stock_dimension,\n",
    "    \"tech_indicator_list\": config.INDICATORS,\n",
    "    \"action_space\": stock_dimension,\n",
    "    \"reward_scaling\": 1e-4\n",
    "}\n",
    "\n",
    "\n",
    "e_train_gym = StockTradingEnv(df = train, **env_kwargs)"
   ]
  },
  {
   "cell_type": "markdown",
   "metadata": {
    "id": "64EoqOrQjiVf"
   },
   "source": [
    "## Environment for Training\n",
    "\n"
   ]
  },
  {
   "cell_type": "code",
   "execution_count": 44,
   "metadata": {
    "colab": {
     "base_uri": "https://localhost:8080/"
    },
    "id": "xwSvvPjutpqS",
    "outputId": "deeaef07-afda-4ca1-fea8-99384224c7cf"
   },
   "outputs": [
    {
     "ename": "ValueError",
     "evalue": "could not broadcast input array from shape (338,) into shape (311,)",
     "output_type": "error",
     "traceback": [
      "\u001b[0;31m---------------------------------------------------------------------------\u001b[0m",
      "\u001b[0;31mValueError\u001b[0m                                Traceback (most recent call last)",
      "Input \u001b[0;32mIn [44]\u001b[0m, in \u001b[0;36m<module>\u001b[0;34m\u001b[0m\n\u001b[0;32m----> 1\u001b[0m env_train, _ \u001b[38;5;241m=\u001b[39m \u001b[43me_train_gym\u001b[49m\u001b[38;5;241;43m.\u001b[39;49m\u001b[43mget_sb_env\u001b[49m\u001b[43m(\u001b[49m\u001b[43m)\u001b[49m\n\u001b[1;32m      2\u001b[0m \u001b[38;5;28mprint\u001b[39m(\u001b[38;5;28mtype\u001b[39m(env_train))\n",
      "File \u001b[0;32m~/smd/python/quant_jianhang/FinRL/FinRL-master/finrl/finrl_meta/env_stock_trading/env_stocktrading.py:506\u001b[0m, in \u001b[0;36mStockTradingEnv.get_sb_env\u001b[0;34m(self)\u001b[0m\n\u001b[1;32m    504\u001b[0m \u001b[38;5;28;01mdef\u001b[39;00m \u001b[38;5;21mget_sb_env\u001b[39m(\u001b[38;5;28mself\u001b[39m):\n\u001b[1;32m    505\u001b[0m     e \u001b[38;5;241m=\u001b[39m DummyVecEnv([\u001b[38;5;28;01mlambda\u001b[39;00m: \u001b[38;5;28mself\u001b[39m])\n\u001b[0;32m--> 506\u001b[0m     obs \u001b[38;5;241m=\u001b[39m \u001b[43me\u001b[49m\u001b[38;5;241;43m.\u001b[39;49m\u001b[43mreset\u001b[49m\u001b[43m(\u001b[49m\u001b[43m)\u001b[49m\n\u001b[1;32m    507\u001b[0m     \u001b[38;5;28;01mreturn\u001b[39;00m e, obs\n",
      "File \u001b[0;32m~/.local/lib/python3.8/site-packages/stable_baselines3/common/vec_env/dummy_vec_env.py:62\u001b[0m, in \u001b[0;36mDummyVecEnv.reset\u001b[0;34m(self)\u001b[0m\n\u001b[1;32m     60\u001b[0m \u001b[38;5;28;01mfor\u001b[39;00m env_idx \u001b[38;5;129;01min\u001b[39;00m \u001b[38;5;28mrange\u001b[39m(\u001b[38;5;28mself\u001b[39m\u001b[38;5;241m.\u001b[39mnum_envs):\n\u001b[1;32m     61\u001b[0m     obs \u001b[38;5;241m=\u001b[39m \u001b[38;5;28mself\u001b[39m\u001b[38;5;241m.\u001b[39menvs[env_idx]\u001b[38;5;241m.\u001b[39mreset()\n\u001b[0;32m---> 62\u001b[0m     \u001b[38;5;28;43mself\u001b[39;49m\u001b[38;5;241;43m.\u001b[39;49m\u001b[43m_save_obs\u001b[49m\u001b[43m(\u001b[49m\u001b[43menv_idx\u001b[49m\u001b[43m,\u001b[49m\u001b[43m \u001b[49m\u001b[43mobs\u001b[49m\u001b[43m)\u001b[49m\n\u001b[1;32m     63\u001b[0m \u001b[38;5;28;01mreturn\u001b[39;00m \u001b[38;5;28mself\u001b[39m\u001b[38;5;241m.\u001b[39m_obs_from_buf()\n",
      "File \u001b[0;32m~/.local/lib/python3.8/site-packages/stable_baselines3/common/vec_env/dummy_vec_env.py:92\u001b[0m, in \u001b[0;36mDummyVecEnv._save_obs\u001b[0;34m(self, env_idx, obs)\u001b[0m\n\u001b[1;32m     90\u001b[0m \u001b[38;5;28;01mfor\u001b[39;00m key \u001b[38;5;129;01min\u001b[39;00m \u001b[38;5;28mself\u001b[39m\u001b[38;5;241m.\u001b[39mkeys:\n\u001b[1;32m     91\u001b[0m     \u001b[38;5;28;01mif\u001b[39;00m key \u001b[38;5;129;01mis\u001b[39;00m \u001b[38;5;28;01mNone\u001b[39;00m:\n\u001b[0;32m---> 92\u001b[0m         \u001b[38;5;28mself\u001b[39m\u001b[38;5;241m.\u001b[39mbuf_obs[key][env_idx] \u001b[38;5;241m=\u001b[39m obs\n\u001b[1;32m     93\u001b[0m     \u001b[38;5;28;01melse\u001b[39;00m:\n\u001b[1;32m     94\u001b[0m         \u001b[38;5;28mself\u001b[39m\u001b[38;5;241m.\u001b[39mbuf_obs[key][env_idx] \u001b[38;5;241m=\u001b[39m obs[key]\n",
      "\u001b[0;31mValueError\u001b[0m: could not broadcast input array from shape (338,) into shape (311,)"
     ]
    }
   ],
   "source": [
    "env_train, _ = e_train_gym.get_sb_env()\n",
    "print(type(env_train))"
   ]
  },
  {
   "cell_type": "markdown",
   "metadata": {
    "id": "HMNR5nHjh1iz"
   },
   "source": [
    "<a id='5'></a>\n",
    "# Part 6: Implement DRL Algorithms\n",
    "* The implementation of the DRL algorithms are based on **OpenAI Baselines** and **Stable Baselines**. Stable Baselines is a fork of OpenAI Baselines, with a major structural refactoring, and code cleanups.\n",
    "* FinRL library includes fine-tuned standard DRL algorithms, such as DQN, DDPG,\n",
    "Multi-Agent DDPG, PPO, SAC, A2C and TD3. We also allow users to\n",
    "design their own DRL algorithms by adapting these DRL algorithms."
   ]
  },
  {
   "cell_type": "code",
   "execution_count": 20,
   "metadata": {
    "id": "364PsqckttcQ"
   },
   "outputs": [],
   "source": [
    "agent = DRLAgent(env = env_train)"
   ]
  },
  {
   "cell_type": "markdown",
   "metadata": {
    "id": "YDmqOyF9h1iz"
   },
   "source": [
    "### Model Training: 5 models, A2C DDPG, PPO, TD3, SAC\n"
   ]
  },
  {
   "cell_type": "markdown",
   "metadata": {
    "id": "uijiWgkuh1jB"
   },
   "source": [
    "### Model 1: A2C\n"
   ]
  },
  {
   "cell_type": "code",
   "execution_count": 21,
   "metadata": {
    "colab": {
     "base_uri": "https://localhost:8080/"
    },
    "id": "GUCnkn-HIbmj",
    "outputId": "a90a7a60-21a5-47e1-b683-1f7cbb4b8bc0"
   },
   "outputs": [
    {
     "name": "stdout",
     "output_type": "stream",
     "text": [
      "{'n_steps': 5, 'ent_coef': 0.01, 'learning_rate': 0.0007}\n",
      "Using cpu device\n"
     ]
    }
   ],
   "source": [
    "agent = DRLAgent(env = env_train)\n",
    "model_a2c = agent.get_model(\"a2c\")"
   ]
  },
  {
   "cell_type": "code",
   "execution_count": 22,
   "metadata": {
    "colab": {
     "base_uri": "https://localhost:8080/",
     "height": 1000
    },
    "id": "0GVpkWGqH4-D",
    "outputId": "570d540f-abe9-402b-e0cc-f9b007228e8e"
   },
   "outputs": [
    {
     "name": "stdout",
     "output_type": "stream",
     "text": [
      "--------------------------------------\n",
      "| time/                 |            |\n",
      "|    fps                | 77         |\n",
      "|    iterations         | 100        |\n",
      "|    time_elapsed       | 6          |\n",
      "|    total_timesteps    | 500        |\n",
      "| train/                |            |\n",
      "|    entropy_loss       | -41.2      |\n",
      "|    explained_variance | -1.19e-07  |\n",
      "|    learning_rate      | 0.0007     |\n",
      "|    n_updates          | 99         |\n",
      "|    policy_loss        | -23.3      |\n",
      "|    reward             | 0.16407855 |\n",
      "|    std                | 1          |\n",
      "|    value_loss         | 1.02       |\n",
      "--------------------------------------\n",
      "--------------------------------------\n",
      "| time/                 |            |\n",
      "|    fps                | 80         |\n",
      "|    iterations         | 200        |\n",
      "|    time_elapsed       | 12         |\n",
      "|    total_timesteps    | 1000       |\n",
      "| train/                |            |\n",
      "|    entropy_loss       | -41.3      |\n",
      "|    explained_variance | 0          |\n",
      "|    learning_rate      | 0.0007     |\n",
      "|    n_updates          | 199        |\n",
      "|    policy_loss        | -23.2      |\n",
      "|    reward             | -0.7490468 |\n",
      "|    std                | 1          |\n",
      "|    value_loss         | 2.69       |\n",
      "--------------------------------------\n",
      "-------------------------------------\n",
      "| time/                 |           |\n",
      "|    fps                | 80        |\n",
      "|    iterations         | 300       |\n",
      "|    time_elapsed       | 18        |\n",
      "|    total_timesteps    | 1500      |\n",
      "| train/                |           |\n",
      "|    entropy_loss       | -41.2     |\n",
      "|    explained_variance | 0         |\n",
      "|    learning_rate      | 0.0007    |\n",
      "|    n_updates          | 299       |\n",
      "|    policy_loss        | -394      |\n",
      "|    reward             | 7.1691494 |\n",
      "|    std                | 1         |\n",
      "|    value_loss         | 87        |\n",
      "-------------------------------------\n",
      "-------------------------------------\n",
      "| time/                 |           |\n",
      "|    fps                | 79        |\n",
      "|    iterations         | 400       |\n",
      "|    time_elapsed       | 25        |\n",
      "|    total_timesteps    | 2000      |\n",
      "| train/                |           |\n",
      "|    entropy_loss       | -41.2     |\n",
      "|    explained_variance | 1.19e-07  |\n",
      "|    learning_rate      | 0.0007    |\n",
      "|    n_updates          | 399       |\n",
      "|    policy_loss        | -19       |\n",
      "|    reward             | 2.3222716 |\n",
      "|    std                | 1         |\n",
      "|    value_loss         | 7.21      |\n",
      "-------------------------------------\n",
      "-------------------------------------\n",
      "| time/                 |           |\n",
      "|    fps                | 81        |\n",
      "|    iterations         | 500       |\n",
      "|    time_elapsed       | 30        |\n",
      "|    total_timesteps    | 2500      |\n",
      "| train/                |           |\n",
      "|    entropy_loss       | -41.2     |\n",
      "|    explained_variance | 0         |\n",
      "|    learning_rate      | 0.0007    |\n",
      "|    n_updates          | 499       |\n",
      "|    policy_loss        | 571       |\n",
      "|    reward             | -8.450254 |\n",
      "|    std                | 1         |\n",
      "|    value_loss         | 284       |\n",
      "-------------------------------------\n",
      "--------------------------------------\n",
      "| time/                 |            |\n",
      "|    fps                | 81         |\n",
      "|    iterations         | 600        |\n",
      "|    time_elapsed       | 36         |\n",
      "|    total_timesteps    | 3000       |\n",
      "| train/                |            |\n",
      "|    entropy_loss       | -41.2      |\n",
      "|    explained_variance | 1.19e-07   |\n",
      "|    learning_rate      | 0.0007     |\n",
      "|    n_updates          | 599        |\n",
      "|    policy_loss        | 112        |\n",
      "|    reward             | -0.5293981 |\n",
      "|    std                | 1          |\n",
      "|    value_loss         | 8.02       |\n",
      "--------------------------------------\n",
      "-------------------------------------\n",
      "| time/                 |           |\n",
      "|    fps                | 82        |\n",
      "|    iterations         | 700       |\n",
      "|    time_elapsed       | 42        |\n",
      "|    total_timesteps    | 3500      |\n",
      "| train/                |           |\n",
      "|    entropy_loss       | -41.2     |\n",
      "|    explained_variance | -0.0134   |\n",
      "|    learning_rate      | 0.0007    |\n",
      "|    n_updates          | 699       |\n",
      "|    policy_loss        | 60.6      |\n",
      "|    reward             | -3.293049 |\n",
      "|    std                | 1         |\n",
      "|    value_loss         | 3.7       |\n",
      "-------------------------------------\n",
      "--------------------------------------\n",
      "| time/                 |            |\n",
      "|    fps                | 82         |\n",
      "|    iterations         | 800        |\n",
      "|    time_elapsed       | 48         |\n",
      "|    total_timesteps    | 4000       |\n",
      "| train/                |            |\n",
      "|    entropy_loss       | -41.2      |\n",
      "|    explained_variance | 0          |\n",
      "|    learning_rate      | 0.0007     |\n",
      "|    n_updates          | 799        |\n",
      "|    policy_loss        | -14.9      |\n",
      "|    reward             | -2.4913642 |\n",
      "|    std                | 1          |\n",
      "|    value_loss         | 0.629      |\n",
      "--------------------------------------\n",
      "--------------------------------------\n",
      "| time/                 |            |\n",
      "|    fps                | 83         |\n",
      "|    iterations         | 900        |\n",
      "|    time_elapsed       | 54         |\n",
      "|    total_timesteps    | 4500       |\n",
      "| train/                |            |\n",
      "|    entropy_loss       | -41.2      |\n",
      "|    explained_variance | 0          |\n",
      "|    learning_rate      | 0.0007     |\n",
      "|    n_updates          | 899        |\n",
      "|    policy_loss        | 228        |\n",
      "|    reward             | -1.1507895 |\n",
      "|    std                | 1          |\n",
      "|    value_loss         | 33.2       |\n",
      "--------------------------------------\n",
      "--------------------------------------\n",
      "| time/                 |            |\n",
      "|    fps                | 83         |\n",
      "|    iterations         | 1000       |\n",
      "|    time_elapsed       | 59         |\n",
      "|    total_timesteps    | 5000       |\n",
      "| train/                |            |\n",
      "|    entropy_loss       | -41.2      |\n",
      "|    explained_variance | -1.19e-07  |\n",
      "|    learning_rate      | 0.0007     |\n",
      "|    n_updates          | 999        |\n",
      "|    policy_loss        | 73.6       |\n",
      "|    reward             | -1.4470645 |\n",
      "|    std                | 1          |\n",
      "|    value_loss         | 4.06       |\n",
      "--------------------------------------\n",
      "-------------------------------------\n",
      "| time/                 |           |\n",
      "|    fps                | 83        |\n",
      "|    iterations         | 1100      |\n",
      "|    time_elapsed       | 65        |\n",
      "|    total_timesteps    | 5500      |\n",
      "| train/                |           |\n",
      "|    entropy_loss       | -41.2     |\n",
      "|    explained_variance | 1.19e-07  |\n",
      "|    learning_rate      | 0.0007    |\n",
      "|    n_updates          | 1099      |\n",
      "|    policy_loss        | -50.7     |\n",
      "|    reward             | 0.6880832 |\n",
      "|    std                | 1         |\n",
      "|    value_loss         | 9.48      |\n",
      "-------------------------------------\n"
     ]
    },
    {
     "ename": "KeyboardInterrupt",
     "evalue": "ignored",
     "output_type": "error",
     "traceback": [
      "\u001b[0;31m---------------------------------------------------------------------------\u001b[0m",
      "\u001b[0;31mKeyboardInterrupt\u001b[0m                         Traceback (most recent call last)",
      "\u001b[0;32m<ipython-input-22-10fe1e0717a3>\u001b[0m in \u001b[0;36m<module>\u001b[0;34m()\u001b[0m\n\u001b[1;32m      1\u001b[0m trained_a2c = agent.train_model(model=model_a2c, \n\u001b[1;32m      2\u001b[0m                              \u001b[0mtb_log_name\u001b[0m\u001b[0;34m=\u001b[0m\u001b[0;34m'a2c'\u001b[0m\u001b[0;34m,\u001b[0m\u001b[0;34m\u001b[0m\u001b[0;34m\u001b[0m\u001b[0m\n\u001b[0;32m----> 3\u001b[0;31m                              total_timesteps=50000)\n\u001b[0m",
      "\u001b[0;32m/usr/local/lib/python3.7/dist-packages/finrl/drl_agents/stablebaselines3/models.py\u001b[0m in \u001b[0;36mtrain_model\u001b[0;34m(self, model, tb_log_name, total_timesteps)\u001b[0m\n\u001b[1;32m    103\u001b[0m             \u001b[0mtotal_timesteps\u001b[0m\u001b[0;34m=\u001b[0m\u001b[0mtotal_timesteps\u001b[0m\u001b[0;34m,\u001b[0m\u001b[0;34m\u001b[0m\u001b[0;34m\u001b[0m\u001b[0m\n\u001b[1;32m    104\u001b[0m             \u001b[0mtb_log_name\u001b[0m\u001b[0;34m=\u001b[0m\u001b[0mtb_log_name\u001b[0m\u001b[0;34m,\u001b[0m\u001b[0;34m\u001b[0m\u001b[0;34m\u001b[0m\u001b[0m\n\u001b[0;32m--> 105\u001b[0;31m             \u001b[0mcallback\u001b[0m\u001b[0;34m=\u001b[0m\u001b[0mTensorboardCallback\u001b[0m\u001b[0;34m(\u001b[0m\u001b[0;34m)\u001b[0m\u001b[0;34m,\u001b[0m\u001b[0;34m\u001b[0m\u001b[0;34m\u001b[0m\u001b[0m\n\u001b[0m\u001b[1;32m    106\u001b[0m         )\n\u001b[1;32m    107\u001b[0m         \u001b[0;32mreturn\u001b[0m \u001b[0mmodel\u001b[0m\u001b[0;34m\u001b[0m\u001b[0;34m\u001b[0m\u001b[0m\n",
      "\u001b[0;32m/usr/local/lib/python3.7/dist-packages/stable_baselines3/a2c/a2c.py\u001b[0m in \u001b[0;36mlearn\u001b[0;34m(self, total_timesteps, callback, log_interval, eval_env, eval_freq, n_eval_episodes, tb_log_name, eval_log_path, reset_num_timesteps)\u001b[0m\n\u001b[1;32m    199\u001b[0m             \u001b[0mtb_log_name\u001b[0m\u001b[0;34m=\u001b[0m\u001b[0mtb_log_name\u001b[0m\u001b[0;34m,\u001b[0m\u001b[0;34m\u001b[0m\u001b[0;34m\u001b[0m\u001b[0m\n\u001b[1;32m    200\u001b[0m             \u001b[0meval_log_path\u001b[0m\u001b[0;34m=\u001b[0m\u001b[0meval_log_path\u001b[0m\u001b[0;34m,\u001b[0m\u001b[0;34m\u001b[0m\u001b[0;34m\u001b[0m\u001b[0m\n\u001b[0;32m--> 201\u001b[0;31m             \u001b[0mreset_num_timesteps\u001b[0m\u001b[0;34m=\u001b[0m\u001b[0mreset_num_timesteps\u001b[0m\u001b[0;34m,\u001b[0m\u001b[0;34m\u001b[0m\u001b[0;34m\u001b[0m\u001b[0m\n\u001b[0m\u001b[1;32m    202\u001b[0m         )\n",
      "\u001b[0;32m/usr/local/lib/python3.7/dist-packages/stable_baselines3/common/on_policy_algorithm.py\u001b[0m in \u001b[0;36mlearn\u001b[0;34m(self, total_timesteps, callback, log_interval, eval_env, eval_freq, n_eval_episodes, tb_log_name, eval_log_path, reset_num_timesteps)\u001b[0m\n\u001b[1;32m    235\u001b[0m         \u001b[0;32mwhile\u001b[0m \u001b[0mself\u001b[0m\u001b[0;34m.\u001b[0m\u001b[0mnum_timesteps\u001b[0m \u001b[0;34m<\u001b[0m \u001b[0mtotal_timesteps\u001b[0m\u001b[0;34m:\u001b[0m\u001b[0;34m\u001b[0m\u001b[0;34m\u001b[0m\u001b[0m\n\u001b[1;32m    236\u001b[0m \u001b[0;34m\u001b[0m\u001b[0m\n\u001b[0;32m--> 237\u001b[0;31m             \u001b[0mcontinue_training\u001b[0m \u001b[0;34m=\u001b[0m \u001b[0mself\u001b[0m\u001b[0;34m.\u001b[0m\u001b[0mcollect_rollouts\u001b[0m\u001b[0;34m(\u001b[0m\u001b[0mself\u001b[0m\u001b[0;34m.\u001b[0m\u001b[0menv\u001b[0m\u001b[0;34m,\u001b[0m \u001b[0mcallback\u001b[0m\u001b[0;34m,\u001b[0m \u001b[0mself\u001b[0m\u001b[0;34m.\u001b[0m\u001b[0mrollout_buffer\u001b[0m\u001b[0;34m,\u001b[0m \u001b[0mn_rollout_steps\u001b[0m\u001b[0;34m=\u001b[0m\u001b[0mself\u001b[0m\u001b[0;34m.\u001b[0m\u001b[0mn_steps\u001b[0m\u001b[0;34m)\u001b[0m\u001b[0;34m\u001b[0m\u001b[0;34m\u001b[0m\u001b[0m\n\u001b[0m\u001b[1;32m    238\u001b[0m \u001b[0;34m\u001b[0m\u001b[0m\n\u001b[1;32m    239\u001b[0m             \u001b[0;32mif\u001b[0m \u001b[0mcontinue_training\u001b[0m \u001b[0;32mis\u001b[0m \u001b[0;32mFalse\u001b[0m\u001b[0;34m:\u001b[0m\u001b[0;34m\u001b[0m\u001b[0;34m\u001b[0m\u001b[0m\n",
      "\u001b[0;32m/usr/local/lib/python3.7/dist-packages/stable_baselines3/common/on_policy_algorithm.py\u001b[0m in \u001b[0;36mcollect_rollouts\u001b[0;34m(self, env, callback, rollout_buffer, n_rollout_steps)\u001b[0m\n\u001b[1;32m    176\u001b[0m                 \u001b[0mclipped_actions\u001b[0m \u001b[0;34m=\u001b[0m \u001b[0mnp\u001b[0m\u001b[0;34m.\u001b[0m\u001b[0mclip\u001b[0m\u001b[0;34m(\u001b[0m\u001b[0mactions\u001b[0m\u001b[0;34m,\u001b[0m \u001b[0mself\u001b[0m\u001b[0;34m.\u001b[0m\u001b[0maction_space\u001b[0m\u001b[0;34m.\u001b[0m\u001b[0mlow\u001b[0m\u001b[0;34m,\u001b[0m \u001b[0mself\u001b[0m\u001b[0;34m.\u001b[0m\u001b[0maction_space\u001b[0m\u001b[0;34m.\u001b[0m\u001b[0mhigh\u001b[0m\u001b[0;34m)\u001b[0m\u001b[0;34m\u001b[0m\u001b[0;34m\u001b[0m\u001b[0m\n\u001b[1;32m    177\u001b[0m \u001b[0;34m\u001b[0m\u001b[0m\n\u001b[0;32m--> 178\u001b[0;31m             \u001b[0mnew_obs\u001b[0m\u001b[0;34m,\u001b[0m \u001b[0mrewards\u001b[0m\u001b[0;34m,\u001b[0m \u001b[0mdones\u001b[0m\u001b[0;34m,\u001b[0m \u001b[0minfos\u001b[0m \u001b[0;34m=\u001b[0m \u001b[0menv\u001b[0m\u001b[0;34m.\u001b[0m\u001b[0mstep\u001b[0m\u001b[0;34m(\u001b[0m\u001b[0mclipped_actions\u001b[0m\u001b[0;34m)\u001b[0m\u001b[0;34m\u001b[0m\u001b[0;34m\u001b[0m\u001b[0m\n\u001b[0m\u001b[1;32m    179\u001b[0m \u001b[0;34m\u001b[0m\u001b[0m\n\u001b[1;32m    180\u001b[0m             \u001b[0mself\u001b[0m\u001b[0;34m.\u001b[0m\u001b[0mnum_timesteps\u001b[0m \u001b[0;34m+=\u001b[0m \u001b[0menv\u001b[0m\u001b[0;34m.\u001b[0m\u001b[0mnum_envs\u001b[0m\u001b[0;34m\u001b[0m\u001b[0;34m\u001b[0m\u001b[0m\n",
      "\u001b[0;32m/usr/local/lib/python3.7/dist-packages/stable_baselines3/common/vec_env/base_vec_env.py\u001b[0m in \u001b[0;36mstep\u001b[0;34m(self, actions)\u001b[0m\n\u001b[1;32m    160\u001b[0m         \"\"\"\n\u001b[1;32m    161\u001b[0m         \u001b[0mself\u001b[0m\u001b[0;34m.\u001b[0m\u001b[0mstep_async\u001b[0m\u001b[0;34m(\u001b[0m\u001b[0mactions\u001b[0m\u001b[0;34m)\u001b[0m\u001b[0;34m\u001b[0m\u001b[0;34m\u001b[0m\u001b[0m\n\u001b[0;32m--> 162\u001b[0;31m         \u001b[0;32mreturn\u001b[0m \u001b[0mself\u001b[0m\u001b[0;34m.\u001b[0m\u001b[0mstep_wait\u001b[0m\u001b[0;34m(\u001b[0m\u001b[0;34m)\u001b[0m\u001b[0;34m\u001b[0m\u001b[0;34m\u001b[0m\u001b[0m\n\u001b[0m\u001b[1;32m    163\u001b[0m \u001b[0;34m\u001b[0m\u001b[0m\n\u001b[1;32m    164\u001b[0m     \u001b[0;32mdef\u001b[0m \u001b[0mget_images\u001b[0m\u001b[0;34m(\u001b[0m\u001b[0mself\u001b[0m\u001b[0;34m)\u001b[0m \u001b[0;34m->\u001b[0m \u001b[0mSequence\u001b[0m\u001b[0;34m[\u001b[0m\u001b[0mnp\u001b[0m\u001b[0;34m.\u001b[0m\u001b[0mndarray\u001b[0m\u001b[0;34m]\u001b[0m\u001b[0;34m:\u001b[0m\u001b[0;34m\u001b[0m\u001b[0;34m\u001b[0m\u001b[0m\n",
      "\u001b[0;32m/usr/local/lib/python3.7/dist-packages/stable_baselines3/common/vec_env/dummy_vec_env.py\u001b[0m in \u001b[0;36mstep_wait\u001b[0;34m(self)\u001b[0m\n\u001b[1;32m     42\u001b[0m         \u001b[0;32mfor\u001b[0m \u001b[0menv_idx\u001b[0m \u001b[0;32min\u001b[0m \u001b[0mrange\u001b[0m\u001b[0;34m(\u001b[0m\u001b[0mself\u001b[0m\u001b[0;34m.\u001b[0m\u001b[0mnum_envs\u001b[0m\u001b[0;34m)\u001b[0m\u001b[0;34m:\u001b[0m\u001b[0;34m\u001b[0m\u001b[0;34m\u001b[0m\u001b[0m\n\u001b[1;32m     43\u001b[0m             obs, self.buf_rews[env_idx], self.buf_dones[env_idx], self.buf_infos[env_idx] = self.envs[env_idx].step(\n\u001b[0;32m---> 44\u001b[0;31m                 \u001b[0mself\u001b[0m\u001b[0;34m.\u001b[0m\u001b[0mactions\u001b[0m\u001b[0;34m[\u001b[0m\u001b[0menv_idx\u001b[0m\u001b[0;34m]\u001b[0m\u001b[0;34m\u001b[0m\u001b[0;34m\u001b[0m\u001b[0m\n\u001b[0m\u001b[1;32m     45\u001b[0m             )\n\u001b[1;32m     46\u001b[0m             \u001b[0;32mif\u001b[0m \u001b[0mself\u001b[0m\u001b[0;34m.\u001b[0m\u001b[0mbuf_dones\u001b[0m\u001b[0;34m[\u001b[0m\u001b[0menv_idx\u001b[0m\u001b[0;34m]\u001b[0m\u001b[0;34m:\u001b[0m\u001b[0;34m\u001b[0m\u001b[0;34m\u001b[0m\u001b[0m\n",
      "\u001b[0;32m/usr/local/lib/python3.7/dist-packages/finrl/finrl_meta/env_stock_trading/env_stocktrading.py\u001b[0m in \u001b[0;36mstep\u001b[0;34m(self, actions)\u001b[0m\n\u001b[1;32m    187\u001b[0m \u001b[0;34m\u001b[0m\u001b[0m\n\u001b[1;32m    188\u001b[0m     \u001b[0;32mdef\u001b[0m \u001b[0mstep\u001b[0m\u001b[0;34m(\u001b[0m\u001b[0mself\u001b[0m\u001b[0;34m,\u001b[0m \u001b[0mactions\u001b[0m\u001b[0;34m)\u001b[0m\u001b[0;34m:\u001b[0m\u001b[0;34m\u001b[0m\u001b[0;34m\u001b[0m\u001b[0m\n\u001b[0;32m--> 189\u001b[0;31m         \u001b[0mself\u001b[0m\u001b[0;34m.\u001b[0m\u001b[0mterminal\u001b[0m \u001b[0;34m=\u001b[0m \u001b[0mself\u001b[0m\u001b[0;34m.\u001b[0m\u001b[0mday\u001b[0m \u001b[0;34m>=\u001b[0m \u001b[0mlen\u001b[0m\u001b[0;34m(\u001b[0m\u001b[0mself\u001b[0m\u001b[0;34m.\u001b[0m\u001b[0mdf\u001b[0m\u001b[0;34m.\u001b[0m\u001b[0mindex\u001b[0m\u001b[0;34m.\u001b[0m\u001b[0munique\u001b[0m\u001b[0;34m(\u001b[0m\u001b[0;34m)\u001b[0m\u001b[0;34m)\u001b[0m \u001b[0;34m-\u001b[0m \u001b[0;36m1\u001b[0m\u001b[0;34m\u001b[0m\u001b[0;34m\u001b[0m\u001b[0m\n\u001b[0m\u001b[1;32m    190\u001b[0m         \u001b[0;32mif\u001b[0m \u001b[0mself\u001b[0m\u001b[0;34m.\u001b[0m\u001b[0mterminal\u001b[0m\u001b[0;34m:\u001b[0m\u001b[0;34m\u001b[0m\u001b[0;34m\u001b[0m\u001b[0m\n\u001b[1;32m    191\u001b[0m             \u001b[0;31m# print(f\"Episode: {self.episode}\")\u001b[0m\u001b[0;34m\u001b[0m\u001b[0;34m\u001b[0m\u001b[0;34m\u001b[0m\u001b[0m\n",
      "\u001b[0;32m/usr/local/lib/python3.7/dist-packages/pandas/core/indexes/base.py\u001b[0m in \u001b[0;36munique\u001b[0;34m(self, level)\u001b[0m\n\u001b[1;32m   2239\u001b[0m         \u001b[0;32mif\u001b[0m \u001b[0mlevel\u001b[0m \u001b[0;32mis\u001b[0m \u001b[0;32mnot\u001b[0m \u001b[0;32mNone\u001b[0m\u001b[0;34m:\u001b[0m\u001b[0;34m\u001b[0m\u001b[0;34m\u001b[0m\u001b[0m\n\u001b[1;32m   2240\u001b[0m             \u001b[0mself\u001b[0m\u001b[0;34m.\u001b[0m\u001b[0m_validate_index_level\u001b[0m\u001b[0;34m(\u001b[0m\u001b[0mlevel\u001b[0m\u001b[0;34m)\u001b[0m\u001b[0;34m\u001b[0m\u001b[0;34m\u001b[0m\u001b[0m\n\u001b[0;32m-> 2241\u001b[0;31m         \u001b[0mresult\u001b[0m \u001b[0;34m=\u001b[0m \u001b[0msuper\u001b[0m\u001b[0;34m(\u001b[0m\u001b[0;34m)\u001b[0m\u001b[0;34m.\u001b[0m\u001b[0munique\u001b[0m\u001b[0;34m(\u001b[0m\u001b[0;34m)\u001b[0m\u001b[0;34m\u001b[0m\u001b[0;34m\u001b[0m\u001b[0m\n\u001b[0m\u001b[1;32m   2242\u001b[0m         \u001b[0;32mreturn\u001b[0m \u001b[0mself\u001b[0m\u001b[0;34m.\u001b[0m\u001b[0m_shallow_copy\u001b[0m\u001b[0;34m(\u001b[0m\u001b[0mresult\u001b[0m\u001b[0;34m)\u001b[0m\u001b[0;34m\u001b[0m\u001b[0;34m\u001b[0m\u001b[0m\n\u001b[1;32m   2243\u001b[0m \u001b[0;34m\u001b[0m\u001b[0m\n",
      "\u001b[0;32m/usr/local/lib/python3.7/dist-packages/pandas/core/base.py\u001b[0m in \u001b[0;36munique\u001b[0;34m(self)\u001b[0m\n\u001b[1;32m   1263\u001b[0m                     \u001b[0mresult\u001b[0m \u001b[0;34m=\u001b[0m \u001b[0mnp\u001b[0m\u001b[0;34m.\u001b[0m\u001b[0masarray\u001b[0m\u001b[0;34m(\u001b[0m\u001b[0mresult\u001b[0m\u001b[0;34m)\u001b[0m\u001b[0;34m\u001b[0m\u001b[0;34m\u001b[0m\u001b[0m\n\u001b[1;32m   1264\u001b[0m         \u001b[0;32melse\u001b[0m\u001b[0;34m:\u001b[0m\u001b[0;34m\u001b[0m\u001b[0;34m\u001b[0m\u001b[0m\n\u001b[0;32m-> 1265\u001b[0;31m             \u001b[0mresult\u001b[0m \u001b[0;34m=\u001b[0m \u001b[0munique1d\u001b[0m\u001b[0;34m(\u001b[0m\u001b[0mvalues\u001b[0m\u001b[0;34m)\u001b[0m\u001b[0;34m\u001b[0m\u001b[0;34m\u001b[0m\u001b[0m\n\u001b[0m\u001b[1;32m   1266\u001b[0m \u001b[0;34m\u001b[0m\u001b[0m\n\u001b[1;32m   1267\u001b[0m         \u001b[0;32mreturn\u001b[0m \u001b[0mresult\u001b[0m\u001b[0;34m\u001b[0m\u001b[0;34m\u001b[0m\u001b[0m\n",
      "\u001b[0;32m/usr/local/lib/python3.7/dist-packages/pandas/core/algorithms.py\u001b[0m in \u001b[0;36munique\u001b[0;34m(values)\u001b[0m\n\u001b[1;32m    397\u001b[0m \u001b[0;34m\u001b[0m\u001b[0m\n\u001b[1;32m    398\u001b[0m     \u001b[0mtable\u001b[0m \u001b[0;34m=\u001b[0m \u001b[0mhtable\u001b[0m\u001b[0;34m(\u001b[0m\u001b[0mlen\u001b[0m\u001b[0;34m(\u001b[0m\u001b[0mvalues\u001b[0m\u001b[0;34m)\u001b[0m\u001b[0;34m)\u001b[0m\u001b[0;34m\u001b[0m\u001b[0;34m\u001b[0m\u001b[0m\n\u001b[0;32m--> 399\u001b[0;31m     \u001b[0muniques\u001b[0m \u001b[0;34m=\u001b[0m \u001b[0mtable\u001b[0m\u001b[0;34m.\u001b[0m\u001b[0munique\u001b[0m\u001b[0;34m(\u001b[0m\u001b[0mvalues\u001b[0m\u001b[0;34m)\u001b[0m\u001b[0;34m\u001b[0m\u001b[0;34m\u001b[0m\u001b[0m\n\u001b[0m\u001b[1;32m    400\u001b[0m     \u001b[0muniques\u001b[0m \u001b[0;34m=\u001b[0m \u001b[0m_reconstruct_data\u001b[0m\u001b[0;34m(\u001b[0m\u001b[0muniques\u001b[0m\u001b[0;34m,\u001b[0m \u001b[0moriginal\u001b[0m\u001b[0;34m.\u001b[0m\u001b[0mdtype\u001b[0m\u001b[0;34m,\u001b[0m \u001b[0moriginal\u001b[0m\u001b[0;34m)\u001b[0m\u001b[0;34m\u001b[0m\u001b[0;34m\u001b[0m\u001b[0m\n\u001b[1;32m    401\u001b[0m     \u001b[0;32mreturn\u001b[0m \u001b[0muniques\u001b[0m\u001b[0;34m\u001b[0m\u001b[0;34m\u001b[0m\u001b[0m\n",
      "\u001b[0;31mKeyboardInterrupt\u001b[0m: "
     ]
    }
   ],
   "source": [
    "trained_a2c = agent.train_model(model=model_a2c, \n",
    "                             tb_log_name='a2c',\n",
    "                             total_timesteps=50000)"
   ]
  },
  {
   "cell_type": "markdown",
   "metadata": {
    "id": "MRiOtrywfAo1"
   },
   "source": [
    "### Model 2: DDPG"
   ]
  },
  {
   "cell_type": "code",
   "execution_count": null,
   "metadata": {
    "id": "M2YadjfnLwgt"
   },
   "outputs": [],
   "source": [
    "agent = DRLAgent(env = env_train)\n",
    "model_ddpg = agent.get_model(\"ddpg\")"
   ]
  },
  {
   "cell_type": "code",
   "execution_count": null,
   "metadata": {
    "collapsed": true,
    "id": "tCDa78rqfO_a",
    "jupyter": {
     "outputs_hidden": true
    }
   },
   "outputs": [],
   "source": [
    "trained_ddpg = agent.train_model(model=model_ddpg, \n",
    "                             tb_log_name='ddpg',\n",
    "                             total_timesteps=50000)"
   ]
  },
  {
   "cell_type": "markdown",
   "metadata": {
    "id": "_gDkU-j-fCmZ"
   },
   "source": [
    "### Model 3: PPO"
   ]
  },
  {
   "cell_type": "code",
   "execution_count": null,
   "metadata": {
    "id": "y5D5PFUhMzSV"
   },
   "outputs": [],
   "source": [
    "agent = DRLAgent(env = env_train)\n",
    "PPO_PARAMS = {\n",
    "    \"n_steps\": 2048,\n",
    "    \"ent_coef\": 0.01,\n",
    "    \"learning_rate\": 0.00025,\n",
    "    \"batch_size\": 128,\n",
    "}\n",
    "model_ppo = agent.get_model(\"ppo\",model_kwargs = PPO_PARAMS)"
   ]
  },
  {
   "cell_type": "code",
   "execution_count": null,
   "metadata": {
    "collapsed": true,
    "id": "Gt8eIQKYM4G3",
    "jupyter": {
     "outputs_hidden": true
    }
   },
   "outputs": [],
   "source": [
    "trained_ppo = agent.train_model(model=model_ppo, \n",
    "                             tb_log_name='ppo',\n",
    "                             total_timesteps=50000)"
   ]
  },
  {
   "cell_type": "markdown",
   "metadata": {
    "id": "3Zpv4S0-fDBv"
   },
   "source": [
    "### Model 4: TD3"
   ]
  },
  {
   "cell_type": "code",
   "execution_count": null,
   "metadata": {
    "id": "JSAHhV4Xc-bh"
   },
   "outputs": [],
   "source": [
    "agent = DRLAgent(env = env_train)\n",
    "TD3_PARAMS = {\"batch_size\": 100, \n",
    "              \"buffer_size\": 1000000, \n",
    "              \"learning_rate\": 0.001}\n",
    "\n",
    "model_td3 = agent.get_model(\"td3\",model_kwargs = TD3_PARAMS)"
   ]
  },
  {
   "cell_type": "code",
   "execution_count": null,
   "metadata": {
    "id": "OSRxNYAxdKpU"
   },
   "outputs": [],
   "source": [
    "trained_td3 = agent.train_model(model=model_td3, \n",
    "                             tb_log_name='td3',\n",
    "                             total_timesteps=30000)"
   ]
  },
  {
   "cell_type": "markdown",
   "metadata": {
    "id": "Dr49PotrfG01"
   },
   "source": [
    "### Model 5: SAC"
   ]
  },
  {
   "cell_type": "code",
   "execution_count": null,
   "metadata": {
    "id": "xwOhVjqRkCdM"
   },
   "outputs": [],
   "source": [
    "agent = DRLAgent(env = env_train)\n",
    "SAC_PARAMS = {\n",
    "    \"batch_size\": 128,\n",
    "    \"buffer_size\": 1000000,\n",
    "    \"learning_rate\": 0.0001,\n",
    "    \"learning_starts\": 100,\n",
    "    \"ent_coef\": \"auto_0.1\",\n",
    "}\n",
    "\n",
    "model_sac = agent.get_model(\"sac\",model_kwargs = SAC_PARAMS)"
   ]
  },
  {
   "cell_type": "code",
   "execution_count": null,
   "metadata": {
    "id": "K8RSdKCckJyH"
   },
   "outputs": [],
   "source": [
    "trained_sac = agent.train_model(model=model_sac, \n",
    "                             tb_log_name='sac',\n",
    "                             total_timesteps=60000)"
   ]
  },
  {
   "cell_type": "markdown",
   "metadata": {
    "id": "f2wZgkQXh1jE"
   },
   "source": [
    "## Trading\n",
    "Assume that we have $1,000,000 initial capital at 2020-07-01. We use the DDPG model to trade Dow jones 30 stocks."
   ]
  },
  {
   "cell_type": "markdown",
   "metadata": {
    "id": "bEv5KGC8h1jE"
   },
   "source": [
    "### Set turbulence threshold\n",
    "Set the turbulence threshold to be greater than the maximum of insample turbulence data, if current turbulence index is greater than the threshold, then we assume that the current market is volatile"
   ]
  },
  {
   "cell_type": "code",
   "execution_count": null,
   "metadata": {
    "id": "efwBi84ch1jE"
   },
   "outputs": [],
   "source": [
    "data_risk_indicator = processed_full[(processed_full.date<'2020-07-01') & (processed_full.date>='2009-01-01')]\n",
    "insample_risk_indicator = data_risk_indicator.drop_duplicates(subset=['date'])"
   ]
  },
  {
   "cell_type": "code",
   "execution_count": null,
   "metadata": {
    "id": "VHZMBpSqh1jG"
   },
   "outputs": [],
   "source": [
    "insample_risk_indicator.vix.describe()"
   ]
  },
  {
   "cell_type": "code",
   "execution_count": null,
   "metadata": {
    "id": "BDkszkMloRWT"
   },
   "outputs": [],
   "source": [
    "insample_risk_indicator.vix.quantile(0.996)"
   ]
  },
  {
   "cell_type": "code",
   "execution_count": null,
   "metadata": {
    "id": "AL7hs7svnNWT"
   },
   "outputs": [],
   "source": [
    "insample_risk_indicator.turbulence.describe()"
   ]
  },
  {
   "cell_type": "code",
   "execution_count": null,
   "metadata": {
    "id": "N78hfHckoqJ9"
   },
   "outputs": [],
   "source": [
    "insample_risk_indicator.turbulence.quantile(0.996)"
   ]
  },
  {
   "cell_type": "markdown",
   "metadata": {
    "id": "U5mmgQF_h1jQ"
   },
   "source": [
    "### Trade\n",
    "\n",
    "DRL model needs to update periodically in order to take full advantage of the data, ideally we need to retrain our model yearly, quarterly, or monthly. We also need to tune the parameters along the way, in this notebook I only use the in-sample data from 2009-01 to 2020-07 to tune the parameters once, so there is some alpha decay here as the length of trade date extends. \n",
    "\n",
    "Numerous hyperparameters – e.g. the learning rate, the total number of samples to train on – influence the learning process and are usually determined by testing some variations."
   ]
  },
  {
   "cell_type": "code",
   "execution_count": null,
   "metadata": {
    "id": "cIqoV0GSI52v"
   },
   "outputs": [],
   "source": [
    "#trade = data_split(processed_full, '2020-07-01','2021-10-31')\n",
    "e_trade_gym = StockTradingEnv(df = trade, turbulence_threshold = 70,risk_indicator_col='vix', **env_kwargs)\n",
    "# env_trade, obs_trade = e_trade_gym.get_sb_env()"
   ]
  },
  {
   "cell_type": "code",
   "execution_count": null,
   "metadata": {
    "id": "W_XNgGsBMeVw"
   },
   "outputs": [],
   "source": [
    "trade.head()"
   ]
  },
  {
   "cell_type": "code",
   "execution_count": null,
   "metadata": {
    "id": "eLOnL5eYh1jR"
   },
   "outputs": [],
   "source": [
    "df_account_value, df_actions = DRLAgent.DRL_prediction(\n",
    "    model=trained_sac, \n",
    "    environment = e_trade_gym)"
   ]
  },
  {
   "cell_type": "code",
   "execution_count": null,
   "metadata": {
    "id": "ERxw3KqLkcP4"
   },
   "outputs": [],
   "source": [
    "df_account_value.shape"
   ]
  },
  {
   "cell_type": "code",
   "execution_count": null,
   "metadata": {
    "id": "2yRkNguY5yvp"
   },
   "outputs": [],
   "source": [
    "df_account_value.tail()"
   ]
  },
  {
   "cell_type": "code",
   "execution_count": null,
   "metadata": {
    "id": "nFlK5hNbWVFk"
   },
   "outputs": [],
   "source": [
    "df_actions.head()"
   ]
  },
  {
   "cell_type": "markdown",
   "metadata": {
    "id": "W6vvNSC6h1jZ"
   },
   "source": [
    "<a id='6'></a>\n",
    "# Part 7: Backtest Our Strategy\n",
    "Backtesting plays a key role in evaluating the performance of a trading strategy. Automated backtesting tool is preferred because it reduces the human error. We usually use the Quantopian pyfolio package to backtest our trading strategies. It is easy to use and consists of various individual plots that provide a comprehensive image of the performance of a trading strategy."
   ]
  },
  {
   "cell_type": "markdown",
   "metadata": {
    "id": "Lr2zX7ZxNyFQ"
   },
   "source": [
    "<a id='6.1'></a>\n",
    "## 7.1 BackTestStats\n",
    "pass in df_account_value, this information is stored in env class\n"
   ]
  },
  {
   "cell_type": "code",
   "execution_count": null,
   "metadata": {
    "id": "Nzkr9yv-AdV_"
   },
   "outputs": [],
   "source": [
    "print(\"==============Get Backtest Results===========\")\n",
    "now = datetime.datetime.now().strftime('%Y%m%d-%Hh%M')\n",
    "\n",
    "perf_stats_all = backtest_stats(account_value=df_account_value)\n",
    "perf_stats_all = pd.DataFrame(perf_stats_all)\n",
    "perf_stats_all.to_csv(\"./\"+config.RESULTS_DIR+\"/perf_stats_all_\"+now+'.csv')"
   ]
  },
  {
   "cell_type": "code",
   "execution_count": null,
   "metadata": {
    "id": "QkV-LB66iwhD"
   },
   "outputs": [],
   "source": [
    "#baseline stats\n",
    "print(\"==============Get Baseline Stats===========\")\n",
    "baseline_df = get_baseline(\n",
    "        ticker=\"^DJI\", \n",
    "        start = df_account_value.loc[0,'date'],\n",
    "        end = df_account_value.loc[len(df_account_value)-1,'date'])\n",
    "\n",
    "stats = backtest_stats(baseline_df, value_col_name = 'close')\n"
   ]
  },
  {
   "cell_type": "code",
   "execution_count": null,
   "metadata": {
    "id": "qg1kvfemrrQH"
   },
   "outputs": [],
   "source": [
    "df_account_value.loc[0,'date']"
   ]
  },
  {
   "cell_type": "code",
   "execution_count": null,
   "metadata": {
    "id": "tt1bzL5OrsTa"
   },
   "outputs": [],
   "source": [
    "df_account_value.loc[len(df_account_value)-1,'date']"
   ]
  },
  {
   "cell_type": "markdown",
   "metadata": {
    "id": "9U6Suru3h1jc"
   },
   "source": [
    "<a id='6.2'></a>\n",
    "## 7.2 BackTestPlot"
   ]
  },
  {
   "cell_type": "code",
   "execution_count": null,
   "metadata": {
    "id": "lKRGftSS7pNM"
   },
   "outputs": [],
   "source": [
    "print(\"==============Compare to DJIA===========\")\n",
    "%matplotlib inline\n",
    "# S&P 500: ^GSPC\n",
    "# Dow Jones Index: ^DJI\n",
    "# NASDAQ 100: ^NDX\n",
    "backtest_plot(df_account_value, \n",
    "             baseline_ticker = '^DJI', \n",
    "             baseline_start = df_account_value.loc[0,'date'],\n",
    "             baseline_end = df_account_value.loc[len(df_account_value)-1,'date'])"
   ]
  },
  {
   "cell_type": "code",
   "execution_count": null,
   "metadata": {
    "id": "BzBaE63H3RLc"
   },
   "outputs": [],
   "source": []
  },
  {
   "cell_type": "code",
   "execution_count": null,
   "metadata": {
    "id": "ZYeOjax-7H_5"
   },
   "outputs": [],
   "source": []
  }
 ],
 "metadata": {
  "colab": {
   "collapsed_sections": [
    "Uy5_PTmOh1hj",
    "_gDkU-j-fCmZ",
    "3Zpv4S0-fDBv"
   ],
   "include_colab_link": true,
   "name": "FinRL_StockTrading_NeurIPS_2018.ipynb",
   "provenance": []
  },
  "kernelspec": {
   "display_name": "Python 3 (ipykernel)",
   "language": "python",
   "name": "python3"
  },
  "language_info": {
   "codemirror_mode": {
    "name": "ipython",
    "version": 3
   },
   "file_extension": ".py",
   "mimetype": "text/x-python",
   "name": "python",
   "nbconvert_exporter": "python",
   "pygments_lexer": "ipython3",
   "version": "3.7.13"
  }
 },
 "nbformat": 4,
 "nbformat_minor": 4
}
